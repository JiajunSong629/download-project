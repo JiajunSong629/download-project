{
 "cells": [
  {
   "cell_type": "code",
   "execution_count": 1,
   "id": "alternative-nowhere",
   "metadata": {},
   "outputs": [],
   "source": [
    "# OPTIONAL: Load the \"autoreload\" extension so that code can change\n",
    "%load_ext autoreload\n",
    "\n",
    "# OPTIONAL: always reload modules so that as you change code in src, it gets loaded\n",
    "%autoreload 2"
   ]
  },
  {
   "cell_type": "code",
   "execution_count": 22,
   "id": "tribal-composite",
   "metadata": {
    "scrolled": false
   },
   "outputs": [],
   "source": [
    "from src.data import load_annotation, load_water_distance, load_radar, load_weight_sensor\n",
    "import os\n",
    "import pandas as pd\n",
    "import numpy as np"
   ]
  },
  {
   "cell_type": "markdown",
   "id": "decent-enough",
   "metadata": {},
   "source": [
    "# Checking `src/data`"
   ]
  },
  {
   "cell_type": "code",
   "execution_count": null,
   "id": "heard-dakota",
   "metadata": {},
   "outputs": [],
   "source": [
    "annotation = load_annotation.get_annotation()\n",
    "complete_ids = load_annotation.get_complete_ids(category='Urination')"
   ]
  },
  {
   "cell_type": "code",
   "execution_count": null,
   "id": "instrumental-heading",
   "metadata": {},
   "outputs": [],
   "source": [
    "water_distance = load_water_distance.get_water_distance_raw(\n",
    "    user_id=1861)\n",
    "\n",
    "water_distance = load_water_distance.get_water_distance_clean(\n",
    "    user_id=1861)"
   ]
  },
  {
   "cell_type": "code",
   "execution_count": null,
   "id": "intimate-parent",
   "metadata": {},
   "outputs": [],
   "source": [
    "radar_raw = load_radar.get_radar_raw(1861)\n",
    "radar_sum = load_radar.get_radar_sum_clean(1861)"
   ]
  },
  {
   "cell_type": "code",
   "execution_count": null,
   "id": "broad-charm",
   "metadata": {},
   "outputs": [],
   "source": [
    "seat_raw = load_weight_sensor.get_seat_weight_raw(1861)\n",
    "foot_raw = load_weight_sensor.get_foot_weight_raw(1861)\n",
    "seat_clean, foot_clean = load_weight_sensor.get_seat_and_foot_weight_clean(1861)\n",
    "total_clean = load_weight_sensor.get_total_weight_clean(1861)"
   ]
  },
  {
   "cell_type": "markdown",
   "id": "surgical-asian",
   "metadata": {},
   "source": [
    "# Checking `src/make_dataset.py`"
   ]
  },
  {
   "cell_type": "code",
   "execution_count": 9,
   "id": "fourth-sunrise",
   "metadata": {},
   "outputs": [],
   "source": [
    "from src.make_dataset import RandomForestDataset, RandomForestExtended"
   ]
  },
  {
   "cell_type": "code",
   "execution_count": 28,
   "id": "resistant-adrian",
   "metadata": {},
   "outputs": [],
   "source": [
    "dataset_config = {\n",
    "    'USER_IDS': [1831, 1863],\n",
    "    'SOURCE_NAMES': ['TotalWeight', 'WaterDistance', 'RadarSum', 'AudioDelay4'],\n",
    "    'FEATURE_NAMES': ['Max', 'Min', 'Mean', 'Median', 'LogVariance', 'LinearTrend'],\n",
    "    'CATEGORY': 'Urination',\n",
    "    'WINDOW_SECONDS': 3,\n",
    "    'HOP_SECONDS': 1\n",
    "}\n",
    "\n",
    "dataset = RandomForestExtended(dataset_config)"
   ]
  },
  {
   "cell_type": "code",
   "execution_count": 29,
   "id": "medieval-merchandise",
   "metadata": {},
   "outputs": [
    {
     "name": "stdout",
     "output_type": "stream",
     "text": [
      "updating 1831\n",
      "updating 1863\n"
     ]
    }
   ],
   "source": [
    "features, labels = dataset.get_features_and_labels_from_users()"
   ]
  },
  {
   "cell_type": "code",
   "execution_count": 31,
   "id": "logical-quarter",
   "metadata": {},
   "outputs": [
    {
     "data": {
      "text/plain": [
       "((249, 536), (249,))"
      ]
     },
     "execution_count": 31,
     "metadata": {},
     "output_type": "execute_result"
    }
   ],
   "source": [
    "features.shape, labels.shape"
   ]
  },
  {
   "cell_type": "code",
   "execution_count": null,
   "id": "golden-level",
   "metadata": {},
   "outputs": [],
   "source": []
  }
 ],
 "metadata": {
  "kernelspec": {
   "display_name": ".download-project",
   "language": "python",
   "name": ".download-project"
  },
  "language_info": {
   "codemirror_mode": {
    "name": "ipython",
    "version": 3
   },
   "file_extension": ".py",
   "mimetype": "text/x-python",
   "name": "python",
   "nbconvert_exporter": "python",
   "pygments_lexer": "ipython3",
   "version": "3.8.3"
  }
 },
 "nbformat": 4,
 "nbformat_minor": 5
}
