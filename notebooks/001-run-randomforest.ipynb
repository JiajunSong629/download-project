{
 "cells": [
  {
   "cell_type": "code",
   "execution_count": 1,
   "metadata": {},
   "outputs": [],
   "source": [
    "import numpy as np\n",
    "import pandas as pa\n",
    "import matplotlib.pyplot as plt\n",
    "import pickle\n",
    "from datetime import date\n",
    "\n",
    "from src.utils import get_framed_label, train_test_split\n",
    "from src.data import load_annotation\n",
    "from src.data import load_radar, load_water_distance, load_weight_sensor, load_audio\n",
    "from src import make_dataset\n",
    "import config\n",
    "\n",
    "from sklearn.ensemble import RandomForestClassifier\n",
    "from sklearn.metrics import classification_report, plot_roc_curve"
   ]
  },
  {
   "cell_type": "code",
   "execution_count": 2,
   "metadata": {},
   "outputs": [],
   "source": [
    "def classification_result(model, testX, testY, threshold = 0.5):\n",
    "    testYPredProb = model.predict_proba(testX)\n",
    "    testYPred = (testYPredProb[:, 1] > threshold).astype(int)\n",
    "    print (f\"threshold = {threshold}\", \"\\n\")\n",
    "    print (classification_report(testY, testYPred))\n",
    "    \n",
    "def variable_importance(trainX, model, top=30):\n",
    "    plt.figure(figsize=(20, 5))\n",
    "    plt.bar(x = range(top), height = model.feature_importances_[:top])\n",
    "    xticks_pos = np.arange(top)\n",
    "    plt.xticks(xticks_pos, trainX.columns[:top], rotation=45, ha = 'right')\n",
    "    pass"
   ]
  },
  {
   "cell_type": "markdown",
   "metadata": {},
   "source": [
    "# Urination"
   ]
  },
  {
   "cell_type": "code",
   "execution_count": 3,
   "metadata": {},
   "outputs": [],
   "source": [
    "CATEGORY = \"Urination\"\n",
    "dataset_config = config.DATASET_CONFIG[CATEGORY]\n",
    "complete_ids = load_annotation.get_complete_ids(\n",
    "    category = CATEGORY\n",
    ")"
   ]
  },
  {
   "cell_type": "code",
   "execution_count": 4,
   "metadata": {},
   "outputs": [
    {
     "name": "stdout",
     "output_type": "stream",
     "text": [
      "Category: Urination\n",
      "Training 48 use_ids: [1880, 1897, 1831, 1871, 1829]...\n",
      "Testing  12 use_ids: [1835, 1841, 1863, 1874, 1875]...\n"
     ]
    }
   ],
   "source": [
    "selected_ids = complete_ids[:60]\n",
    "TRAIN_IDS, TEST_IDS = train_test_split(selected_ids, seed=1234)\n",
    "\n",
    "print(f\"Category: {CATEGORY}\")\n",
    "print(f\"Training {len(TRAIN_IDS)} use_ids: {TRAIN_IDS[:5]}...\")\n",
    "print(f\"Testing  {len(TEST_IDS)} use_ids: {TEST_IDS[:5]}...\")"
   ]
  },
  {
   "cell_type": "code",
   "execution_count": 5,
   "metadata": {},
   "outputs": [],
   "source": [
    "train_config = dataset_config.copy()\n",
    "test_config = dataset_config.copy()\n",
    "\n",
    "train_config['USER_IDS'] = TRAIN_IDS\n",
    "test_config['USER_IDS'] = TEST_IDS\n",
    "\n",
    "dataset = {}\n",
    "dataset['train'] = make_dataset.RandomForestExtended(train_config)\n",
    "dataset['test'] = make_dataset.RandomForestExtended(test_config)"
   ]
  },
  {
   "cell_type": "code",
   "execution_count": 6,
   "metadata": {
    "scrolled": true
   },
   "outputs": [
    {
     "data": {
      "application/vnd.jupyter.widget-view+json": {
       "model_id": "6bb3a0c898284f5b821de00ecd50b5e9",
       "version_major": 2,
       "version_minor": 0
      },
      "text/plain": [
       "  0%|          | 0/48 [00:00<?, ?it/s]"
      ]
     },
     "metadata": {},
     "output_type": "display_data"
    },
    {
     "name": "stdout",
     "output_type": "stream",
     "text": [
      "updating 1898 failed\n"
     ]
    },
    {
     "data": {
      "application/vnd.jupyter.widget-view+json": {
       "model_id": "304870f3e9bf411b86ec6dc72d71798d",
       "version_major": 2,
       "version_minor": 0
      },
      "text/plain": [
       "  0%|          | 0/12 [00:00<?, ?it/s]"
      ]
     },
     "metadata": {},
     "output_type": "display_data"
    }
   ],
   "source": [
    "# it may take around 20min to run\n",
    "train_x, train_y = dataset['train'].get_features_and_labels_from_users()\n",
    "test_x, test_y = dataset['test'].get_features_and_labels_from_users()"
   ]
  },
  {
   "cell_type": "code",
   "execution_count": 7,
   "metadata": {},
   "outputs": [
    {
     "name": "stdout",
     "output_type": "stream",
     "text": [
      "train_x.shape = (4292, 402), test_x.shape = (1376, 402)\n",
      "#positive/#total train_y = 708/4292\n",
      "#positive/#total test_y = 218/1376\n"
     ]
    }
   ],
   "source": [
    "print(f\"train_x.shape = {train_x.shape}, test_x.shape = {test_x.shape}\")\n",
    "print(f\"#positive/#total train_y = {sum(train_y)}/{len(train_y)}\")\n",
    "print(f\"#positive/#total test_y = {sum(test_y)}/{len(test_y)}\")"
   ]
  },
  {
   "cell_type": "code",
   "execution_count": 8,
   "metadata": {},
   "outputs": [
    {
     "data": {
      "text/plain": [
       "RandomForestClassifier(n_estimators=30)"
      ]
     },
     "execution_count": 8,
     "metadata": {},
     "output_type": "execute_result"
    }
   ],
   "source": [
    "rf = RandomForestClassifier(n_estimators = 30)\n",
    "rf.fit(train_x, train_y)"
   ]
  },
  {
   "cell_type": "code",
   "execution_count": 9,
   "metadata": {},
   "outputs": [
    {
     "name": "stdout",
     "output_type": "stream",
     "text": [
      "threshold = 0.3 \n",
      "\n",
      "              precision    recall  f1-score   support\n",
      "\n",
      "           0       0.96      0.99      0.97      1158\n",
      "           1       0.93      0.78      0.85       218\n",
      "\n",
      "    accuracy                           0.96      1376\n",
      "   macro avg       0.95      0.89      0.91      1376\n",
      "weighted avg       0.96      0.96      0.96      1376\n",
      "\n"
     ]
    }
   ],
   "source": [
    "classification_result(\n",
    "    rf,\n",
    "    test_x, test_y,\n",
    "    threshold = 0.3\n",
    ")"
   ]
  },
  {
   "cell_type": "code",
   "execution_count": 10,
   "metadata": {},
   "outputs": [
    {
     "name": "stdout",
     "output_type": "stream",
     "text": [
      "threshold = 0.2 \n",
      "\n",
      "              precision    recall  f1-score   support\n",
      "\n",
      "           0       0.97      0.97      0.97      1158\n",
      "           1       0.86      0.82      0.84       218\n",
      "\n",
      "    accuracy                           0.95      1376\n",
      "   macro avg       0.91      0.90      0.90      1376\n",
      "weighted avg       0.95      0.95      0.95      1376\n",
      "\n"
     ]
    }
   ],
   "source": [
    "classification_result(\n",
    "    rf,\n",
    "    test_x, test_y,\n",
    "    threshold = 0.2\n",
    ")"
   ]
  },
  {
   "cell_type": "code",
   "execution_count": 11,
   "metadata": {},
   "outputs": [
    {
     "data": {
      "image/png": "[encoded data removed]",
      "text/plain": [
       "<Figure size 1440x360 with 1 Axes>"
      ]
     },
     "metadata": {
      "needs_background": "light"
     },
     "output_type": "display_data"
    }
   ],
   "source": [
    "variable_importance(train_x, rf)"
   ]
  },
  {
   "cell_type": "code",
   "execution_count": 12,
   "metadata": {},
   "outputs": [],
   "source": [
    "current_time = date.today().strftime(\"%Y-%m-%d\")\n",
    "model_name = f\"../models/urination-rf-extended-embedding-{current_time}.pkl\"\n",
    "\n",
    "with open(model_name, \"wb\") as f:\n",
    "    pickle.dump(rf, f)"
   ]
  },
  {
   "cell_type": "code",
   "execution_count": null,
   "metadata": {},
   "outputs": [],
   "source": []
  },
  {
   "cell_type": "markdown",
   "metadata": {},
   "source": [
    "# Defecation"
   ]
  },
  {
   "cell_type": "code",
   "execution_count": 13,
   "metadata": {},
   "outputs": [],
   "source": [
    "CATEGORY = \"Defecation\"\n",
    "dataset_config = config.DATASET_CONFIG[CATEGORY]\n",
    "complete_ids = load_annotation.get_complete_ids(\n",
    "    category = CATEGORY\n",
    ")"
   ]
  },
  {
   "cell_type": "code",
   "execution_count": 14,
   "metadata": {},
   "outputs": [
    {
     "name": "stdout",
     "output_type": "stream",
     "text": [
      "Category: Defecation\n",
      "Training 23 use_ids: [1898, 1930, 1919, 1926, 1941]...\n",
      "Testing  6 use_ids: [1854, 1870, 1875, 1882, 1890]...\n"
     ]
    }
   ],
   "source": [
    "selected_ids = [idx for idx in complete_ids if idx <= 1950 and idx >= 1800]\n",
    "TRAIN_IDS, TEST_IDS = train_test_split(selected_ids)\n",
    "\n",
    "print(f\"Category: {CATEGORY}\")\n",
    "print(f\"Training {len(TRAIN_IDS)} use_ids: {TRAIN_IDS[:5]}...\")\n",
    "print(f\"Testing  {len(TEST_IDS)} use_ids: {TEST_IDS[:5]}...\")"
   ]
  },
  {
   "cell_type": "code",
   "execution_count": 15,
   "metadata": {},
   "outputs": [],
   "source": [
    "train_config = dataset_config.copy()\n",
    "test_config = dataset_config.copy()\n",
    "\n",
    "train_config['USER_IDS'] = TRAIN_IDS\n",
    "test_config['USER_IDS'] = TEST_IDS\n",
    "\n",
    "dataset = {}\n",
    "dataset['train'] = make_dataset.RandomForestExtended(train_config)\n",
    "dataset['test'] = make_dataset.RandomForestExtended(test_config)"
   ]
  },
  {
   "cell_type": "code",
   "execution_count": 16,
   "metadata": {},
   "outputs": [
    {
     "data": {
      "application/vnd.jupyter.widget-view+json": {
       "model_id": "ea5575bc61124ba094876c8b9a4d8239",
       "version_major": 2,
       "version_minor": 0
      },
      "text/plain": [
       "  0%|          | 0/23 [00:00<?, ?it/s]"
      ]
     },
     "metadata": {},
     "output_type": "display_data"
    },
    {
     "name": "stdout",
     "output_type": "stream",
     "text": [
      "updating 1898 failed\n"
     ]
    },
    {
     "data": {
      "application/vnd.jupyter.widget-view+json": {
       "model_id": "e68d21f18b0c4ed894177bcb8031389d",
       "version_major": 2,
       "version_minor": 0
      },
      "text/plain": [
       "  0%|          | 0/6 [00:00<?, ?it/s]"
      ]
     },
     "metadata": {},
     "output_type": "display_data"
    }
   ],
   "source": [
    "train_x, train_y = dataset['train'].get_features_and_labels_from_users()\n",
    "test_x, test_y = dataset['test'].get_features_and_labels_from_users()"
   ]
  },
  {
   "cell_type": "code",
   "execution_count": 17,
   "metadata": {},
   "outputs": [
    {
     "name": "stdout",
     "output_type": "stream",
     "text": [
      "train_x.shape: (3390, 402) test_x.shape: (1065, 402)\n",
      "No. Positive in training 147/(3390,)\n",
      "No. Positive in testing  37/(1065,)\n"
     ]
    }
   ],
   "source": [
    "print(f'train_x.shape: {train_x.shape} test_x.shape: {test_x.shape}')\n",
    "print(f'No. Positive in training {train_y.sum()}/{train_y.shape}')\n",
    "print(f'No. Positive in testing  {test_y.sum()}/{test_y.shape}')"
   ]
  },
  {
   "cell_type": "code",
   "execution_count": 18,
   "metadata": {},
   "outputs": [
    {
     "data": {
      "text/plain": [
       "RandomForestClassifier(class_weight='balanced', n_estimators=10)"
      ]
     },
     "execution_count": 18,
     "metadata": {},
     "output_type": "execute_result"
    }
   ],
   "source": [
    "rf = RandomForestClassifier(\n",
    "    n_estimators = 10,\n",
    "    class_weight = \"balanced\"\n",
    ")\n",
    "rf.fit(train_x, train_y)"
   ]
  },
  {
   "cell_type": "code",
   "execution_count": 19,
   "metadata": {},
   "outputs": [
    {
     "name": "stdout",
     "output_type": "stream",
     "text": [
      "threshold = 0.3 \n",
      "\n",
      "              precision    recall  f1-score   support\n",
      "\n",
      "           0       0.99      0.99      0.99      1028\n",
      "           1       0.62      0.65      0.63        37\n",
      "\n",
      "    accuracy                           0.97      1065\n",
      "   macro avg       0.80      0.82      0.81      1065\n",
      "weighted avg       0.97      0.97      0.97      1065\n",
      "\n"
     ]
    }
   ],
   "source": [
    "classification_result(\n",
    "    rf,\n",
    "    test_x, test_y,\n",
    "    threshold = 0.3\n",
    ")"
   ]
  },
  {
   "cell_type": "code",
   "execution_count": 20,
   "metadata": {},
   "outputs": [
    {
     "name": "stdout",
     "output_type": "stream",
     "text": [
      "threshold = 0.4 \n",
      "\n",
      "              precision    recall  f1-score   support\n",
      "\n",
      "           0       0.98      0.99      0.99      1028\n",
      "           1       0.61      0.54      0.57        37\n",
      "\n",
      "    accuracy                           0.97      1065\n",
      "   macro avg       0.79      0.76      0.78      1065\n",
      "weighted avg       0.97      0.97      0.97      1065\n",
      "\n"
     ]
    }
   ],
   "source": [
    "classification_result(\n",
    "    rf,\n",
    "    test_x, test_y,\n",
    "    threshold = 0.4\n",
    ")"
   ]
  },
  {
   "cell_type": "code",
   "execution_count": 21,
   "metadata": {},
   "outputs": [
    {
     "data": {
      "image/png": "[encoded data removed]",
      "text/plain": [
       "<Figure size 1440x360 with 1 Axes>"
      ]
     },
     "metadata": {
      "needs_background": "light"
     },
     "output_type": "display_data"
    }
   ],
   "source": [
    "variable_importance(train_x, rf)"
   ]
  },
  {
   "cell_type": "code",
   "execution_count": 22,
   "metadata": {},
   "outputs": [],
   "source": [
    "current_time = date.today().strftime(\"%Y-%m-%d\")\n",
    "model_name = f\"../models/defecation-rf-extended-embedding-{current_time}.pkl\"\n",
    "\n",
    "with open(model_name, \"wb\") as f:\n",
    "    pickle.dump(rf, f)"
   ]
  }
 ],
 "metadata": {
  "kernelspec": {
   "display_name": ".download-project",
   "language": "python",
   "name": ".download-project"
  },
  "language_info": {
   "codemirror_mode": {
    "name": "ipython",
    "version": 3
   },
   "file_extension": ".py",
   "mimetype": "text/x-python",
   "name": "python",
   "nbconvert_exporter": "python",
   "pygments_lexer": "ipython3",
   "version": "3.8.3"
  }
 },
 "nbformat": 4,
 "nbformat_minor": 4
}
