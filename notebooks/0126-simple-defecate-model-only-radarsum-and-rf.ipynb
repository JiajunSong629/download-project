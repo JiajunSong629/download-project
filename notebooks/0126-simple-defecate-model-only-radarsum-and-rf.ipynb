{
 "cells": [
  {
   "cell_type": "code",
   "execution_count": 1,
   "metadata": {},
   "outputs": [],
   "source": [
    "import numpy as np\n",
    "import pandas as pa\n",
    "import pickle\n",
    "import librosa.display\n",
    "\n",
    "from src.utils import get_framed_label, train_test_split, from_boolean_array_to_intervals, get_annotated_intervals\n",
    "from src.data import load_annotation\n",
    "from src.data import load_radar, load_water_distance, load_weight_sensor, load_audio\n",
    "from src import make_dataset\n",
    "\n",
    "from matplotlib import pyplot as plt"
   ]
  },
  {
   "cell_type": "code",
   "execution_count": null,
   "metadata": {},
   "outputs": [],
   "source": []
  },
  {
   "cell_type": "code",
   "execution_count": 2,
   "metadata": {},
   "outputs": [],
   "source": [
    "config = {\n",
    "    'USE_IDS': [],\n",
    "    'DATAFRAME_PATH': \"C:/Users/Jiajun/Desktop/download-project/data/raw/data_frames\",\n",
    "    'ANNOTATION_PATH': \"C:/Users/Jiajun/Desktop/download-project/data/processed/Annotation.csv\",\n",
    "    'FEATURE_NAMES': ['Max', 'Min', 'Mean', 'Median', 'LogVariance', 'LinearTrend'],\n",
    "    'SOURCE_NAMES': ['RadarSum'],\n",
    "    'WINDOW_SECONDS': 3,\n",
    "    'HOP_SECONDS': 1,\n",
    "    'CATEGORY': \"Defecation\",\n",
    "}\n",
    "\n",
    "complete_ids = load_annotation.get_complete_ids(\n",
    "    annotation_filename = config['ANNOTATION_PATH'],\n",
    "    category = config['CATEGORY']\n",
    ")\n",
    "\n",
    "annotations = load_annotation.get_annotation(config['ANNOTATION_PATH'])"
   ]
  },
  {
   "cell_type": "code",
   "execution_count": 31,
   "metadata": {},
   "outputs": [],
   "source": [
    "selected_ids = complete_ids[complete_ids < 1900]"
   ]
  },
  {
   "cell_type": "code",
   "execution_count": 32,
   "metadata": {},
   "outputs": [
    {
     "name": "stdout",
     "output_type": "stream",
     "text": [
      "Category: Defecation\n",
      "Training 37 use_ids: [934, 928, 976, 964, 1830]...\n",
      "Testing  10 use_ids: [1802, 1854, 1870, 1875, 1882]...\n"
     ]
    }
   ],
   "source": [
    "TRAIN_IDS, TEST_IDS = train_test_split(selected_ids)\n",
    "\n",
    "print(f\"Category: {config['CATEGORY']}\")\n",
    "print(f\"Training {len(TRAIN_IDS)} use_ids: {TRAIN_IDS[:5]}...\")\n",
    "print(f\"Testing  {len(TEST_IDS)} use_ids: {TEST_IDS[:5]}...\")"
   ]
  },
  {
   "cell_type": "code",
   "execution_count": 33,
   "metadata": {},
   "outputs": [],
   "source": [
    "train_config = config.copy()\n",
    "test_config = config.copy()\n",
    "\n",
    "train_config['USE_IDS'] = TRAIN_IDS#[987, 960, 954, 964, 968, 979, 976, 993, 953, 982, 984, 995, 985, 958]#TRAIN_IDS\n",
    "test_config['USE_IDS'] = TEST_IDS#[989, 970, 971, 986, 978, 992]#TEST_IDS\n",
    "\n",
    "dataset = {}\n",
    "dataset['train'] = make_dataset.RandomForestDataset(train_config)\n",
    "dataset['test'] = make_dataset.RandomForestDataset(test_config)"
   ]
  },
  {
   "cell_type": "code",
   "execution_count": 34,
   "metadata": {
    "scrolled": true
   },
   "outputs": [
    {
     "name": "stdout",
     "output_type": "stream",
     "text": [
      "updating 934\n",
      "updating 928\n",
      "updating 976\n",
      "updating 964\n",
      "updating 1830\n",
      "updating 1831\n",
      "updating 947\n",
      "updating 954\n",
      "updating 986\n",
      "updating 938\n",
      "updating 993\n",
      "updating 968\n",
      "updating 987\n",
      "updating 958\n",
      "updating 930\n",
      "updating 960\n",
      "updating 941\n",
      "updating 926\n",
      "updating 1893\n",
      "updating 971\n",
      "updating 989\n",
      "updating 982\n",
      "updating 1839\n",
      "updating 942\n",
      "updating 1898\n",
      "updating 1881\n",
      "updating 979\n",
      "updating 948\n",
      "updating 953\n",
      "updating 978\n",
      "updating 995\n",
      "updating 992\n",
      "updating 936\n",
      "updating 1862\n",
      "updating 1863\n",
      "updating 985\n",
      "updating 1806\n",
      "updating 1802\n",
      "updating 1854\n",
      "updating 1870\n",
      "updating 1875\n",
      "updating 1882\n",
      "updating 1890\n",
      "updating 922\n",
      "updating 924\n",
      "updating 970\n",
      "updating 984\n"
     ]
    }
   ],
   "source": [
    "train_x, train_y = dataset['train'].get_features_and_labels_from_users()\n",
    "test_x, test_y = dataset['test'].get_features_and_labels_from_users()"
   ]
  },
  {
   "cell_type": "code",
   "execution_count": 35,
   "metadata": {},
   "outputs": [
    {
     "name": "stdout",
     "output_type": "stream",
     "text": [
      "train_x.shape = (6327, 6), test_x.shape = (1758, 6)\n",
      "train_y: 251/6327\n",
      "test_y : 61/1758\n"
     ]
    }
   ],
   "source": [
    "print(f'train_x.shape = {train_x.shape}, test_x.shape = {test_x.shape}')\n",
    "print(f'train_y: {train_y.sum()}/{train_y.shape[0]}')\n",
    "print(f'test_y : {test_y.sum()}/{test_y.shape[0]}')"
   ]
  },
  {
   "cell_type": "markdown",
   "metadata": {},
   "source": [
    "## RandomForest Classifier"
   ]
  },
  {
   "cell_type": "code",
   "execution_count": 36,
   "metadata": {},
   "outputs": [],
   "source": [
    "from sklearn.ensemble import RandomForestClassifier\n",
    "from sklearn.metrics import classification_report, plot_roc_curve"
   ]
  },
  {
   "cell_type": "code",
   "execution_count": 37,
   "metadata": {},
   "outputs": [
    {
     "data": {
      "text/plain": [
       "RandomForestClassifier(n_estimators=10)"
      ]
     },
     "execution_count": 37,
     "metadata": {},
     "output_type": "execute_result"
    }
   ],
   "source": [
    "rf = RandomForestClassifier(n_estimators = 10)\n",
    "rf.fit(train_x, train_y)"
   ]
  },
  {
   "cell_type": "code",
   "execution_count": 38,
   "metadata": {},
   "outputs": [],
   "source": [
    "def classification_result(model, testX, testY, threshold = 0.5):\n",
    "    testYPredProb = model.predict_proba(testX)\n",
    "    testYPred = (testYPredProb[:, 1] > threshold).astype(int)\n",
    "    print (f\"threshold = {threshold}\", \"\\n\")\n",
    "    print (classification_report(testY, testYPred))\n",
    "\n",
    "    \n",
    "def variable_importance(trainX, model, top=30):\n",
    "    top = min(top, trainX.shape[1])\n",
    "    plt.figure(figsize=(20, 5))\n",
    "    plt.bar(x = range(top), height = model.feature_importances_[:top])\n",
    "    xticks_pos = np.arange(top)\n",
    "    plt.xticks(xticks_pos, trainX.columns[:top], rotation=45, ha='right')\n",
    "    pass"
   ]
  },
  {
   "cell_type": "code",
   "execution_count": 39,
   "metadata": {},
   "outputs": [
    {
     "name": "stdout",
     "output_type": "stream",
     "text": [
      "threshold = 0.3 \n",
      "\n",
      "              precision    recall  f1-score   support\n",
      "\n",
      "           0       0.99      0.99      0.99      1697\n",
      "           1       0.72      0.77      0.75        61\n",
      "\n",
      "    accuracy                           0.98      1758\n",
      "   macro avg       0.86      0.88      0.87      1758\n",
      "weighted avg       0.98      0.98      0.98      1758\n",
      "\n"
     ]
    }
   ],
   "source": [
    "classification_result(\n",
    "    rf,\n",
    "    test_x, test_y,\n",
    "    threshold = 0.3\n",
    ")"
   ]
  },
  {
   "cell_type": "code",
   "execution_count": 46,
   "metadata": {},
   "outputs": [
    {
     "name": "stdout",
     "output_type": "stream",
     "text": [
      "threshold = 0.2 \n",
      "\n",
      "              precision    recall  f1-score   support\n",
      "\n",
      "           0       1.00      0.99      0.99      1697\n",
      "           1       0.69      0.89      0.78        61\n",
      "\n",
      "    accuracy                           0.98      1758\n",
      "   macro avg       0.84      0.94      0.88      1758\n",
      "weighted avg       0.99      0.98      0.98      1758\n",
      "\n"
     ]
    }
   ],
   "source": [
    "classification_result(\n",
    "    rf,\n",
    "    test_x, test_y,\n",
    "    threshold = 0.2\n",
    ")"
   ]
  },
  {
   "cell_type": "code",
   "execution_count": null,
   "metadata": {},
   "outputs": [],
   "source": []
  },
  {
   "cell_type": "code",
   "execution_count": 47,
   "metadata": {},
   "outputs": [],
   "source": [
    "def plot_radar_with_annotation(use_i, category='Defecation'):\n",
    "    intervals = get_annotated_intervals(use_i, annotations, category)\n",
    "    radar = load_radar.get_radar_sum_clean(use_i)\n",
    "    \n",
    "    plt.figure(figsize=(10,2))\n",
    "    plt.plot(radar)\n",
    "    for interval in intervals:\n",
    "        plt.axvspan(interval[0], interval[1], color=\"orange\")\n",
    "    plt.show()"
   ]
  },
  {
   "cell_type": "code",
   "execution_count": 48,
   "metadata": {},
   "outputs": [
    {
     "data": {
      "image/png": "[encoded data removed]",
      "text/plain": [
       "<Figure size 720x144 with 1 Axes>"
      ]
     },
     "metadata": {
      "needs_background": "light"
     },
     "output_type": "display_data"
    }
   ],
   "source": [
    "plot_radar_with_annotation(2055)"
   ]
  },
  {
   "cell_type": "code",
   "execution_count": null,
   "metadata": {},
   "outputs": [],
   "source": []
  },
  {
   "cell_type": "code",
   "execution_count": null,
   "metadata": {},
   "outputs": [],
   "source": []
  }
 ],
 "metadata": {
  "kernelspec": {
   "display_name": ".download-project",
   "language": "python",
   "name": ".download-project"
  },
  "language_info": {
   "codemirror_mode": {
    "name": "ipython",
    "version": 3
   },
   "file_extension": ".py",
   "mimetype": "text/x-python",
   "name": "python",
   "nbconvert_exporter": "python",
   "pygments_lexer": "ipython3",
   "version": "3.8.3"
  }
 },
 "nbformat": 4,
 "nbformat_minor": 4
}
