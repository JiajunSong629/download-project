{
 "cells": [
  {
   "cell_type": "code",
   "execution_count": 1,
   "metadata": {},
   "outputs": [],
   "source": [
    "import os\n",
    "import sys\n",
    "import time\n",
    "import numpy as np\n",
    "from sklearn.metrics import classification_report\n",
    "\n",
    "import torch\n",
    "import torch.nn as nn\n",
    "import torch.nn.functional as F\n",
    "import torch.optim as optim\n",
    "\n",
    "from models.pytorch_vggish import pretrained\n",
    "\n",
    "from src.data import load_annotation, load_data\n",
    "from src.seq2seq.train import train_test_split, train, test\n",
    "from src.seq2seq.model import LSTMClassifier\n",
    "\n",
    "import warnings\n",
    "warnings.filterwarnings(\"ignore\", category=UserWarning)"
   ]
  },
  {
   "cell_type": "code",
   "execution_count": 7,
   "metadata": {},
   "outputs": [],
   "source": [
    "# configuration\n",
    "RAWDATA_PATH = \"../data/raw\"\n",
    "DATAFRAME_PATH = os.path.join(RAWDATA_PATH, \"data_frames\")\n",
    "ANNOTATION_PATH = \"../data/processed/Annotation.csv\"\n",
    "CATEGORY = \"Urination\"\n",
    "THRESHOLD = 0.3\n",
    "NUM_EPOCHS = 5\n",
    "\n",
    "PYTORCH_MODEL = pretrained.make_pytorch_vggish(path = \"../data/processed/pytorch_vggish.pth\")\n",
    "ANNOTATIONS = load_annotation.get_annotation(ANNOTATION_PATH)\n",
    "USER_IDS = load_annotation.get_complete_ids(ANNOTATION_PATH, CATEGORY)[:80]\n",
    "TRAIN_IDS, TEST_IDS = train_test_split(USER_IDS)\n",
    "\n",
    "seq2seq_train_config = {\n",
    "    'USER_IDS': TRAIN_IDS,\n",
    "    'DATAFRAME_PATH': DATAFRAME_PATH,\n",
    "    'CATEGORY': CATEGORY,\n",
    "    'ANNOTATIONS': ANNOTATIONS,\n",
    "    'PYTORCH_MODEL': PYTORCH_MODEL\n",
    "}\n",
    "\n",
    "seq2seq_test_config = {\n",
    "    'USER_IDS': TEST_IDS,\n",
    "    'DATAFRAME_PATH': DATAFRAME_PATH,\n",
    "    'CATEGORY': CATEGORY,\n",
    "    'ANNOTATIONS': ANNOTATIONS,\n",
    "    'PYTORCH_MODEL': PYTORCH_MODEL\n",
    "}"
   ]
  },
  {
   "cell_type": "code",
   "execution_count": 8,
   "metadata": {},
   "outputs": [],
   "source": [
    "# dataset\n",
    "dataset = {}\n",
    "dataset['train'] = load_data.VGGishEmbeddingDataset(seq2seq_train_config)\n",
    "dataset['test'] = load_data.VGGishEmbeddingDataset(seq2seq_test_config)"
   ]
  },
  {
   "cell_type": "code",
   "execution_count": 9,
   "metadata": {},
   "outputs": [],
   "source": [
    "# model\n",
    "model = LSTMClassifier(input_dim = 128, hidden_dim = 16, output_dim = 2, num_layers = 1)\n",
    "optimizer = optim.SGD(model.parameters(), lr = 0.5)\n",
    "criterion = nn.CrossEntropyLoss()"
   ]
  },
  {
   "cell_type": "code",
   "execution_count": 10,
   "metadata": {},
   "outputs": [
    {
     "name": "stdout",
     "output_type": "stream",
     "text": [
      "64 training samples: [1927, 1878, 1882, 1933, 1898]...\n",
      "16 testing samples : [1806, 1828, 1829, 1832, 1834]...\n"
     ]
    }
   ],
   "source": [
    "# logging\n",
    "print (f\"{len(TRAIN_IDS)} training samples: {TRAIN_IDS[:5]}...\")\n",
    "print (f\"{ len(TEST_IDS)} testing samples : {TEST_IDS[:5]}...\")"
   ]
  },
  {
   "cell_type": "code",
   "execution_count": 11,
   "metadata": {},
   "outputs": [
    {
     "name": "stdout",
     "output_type": "stream",
     "text": [
      "Epoch : 0\n",
      "Batch : 1 / Loss : 0.6701251864433289\n",
      "Batch : 2 / Loss : 0.49074020981788635\n",
      "Batch : 3 / Loss : 0.49806687235832214\n",
      "Batch : 4 / Loss : 0.44269075989723206\n",
      "Batch : 5 / Loss : 0.5323425531387329\n",
      "Batch : 6 / Loss : 0.4936315715312958\n",
      "Batch : 7 / Loss : 0.5447154641151428\n",
      "Batch : 8 / Loss : 0.4220910966396332\n",
      "Batch : 9 / Loss : 0.3825794756412506\n",
      "Batch : 10 / Loss : 0.31893038749694824\n",
      "Batch : 11 / Loss : 0.46033066511154175\n",
      "Batch : 12 / Loss : 0.3522374629974365\n",
      "Batch : 13 / Loss : 0.49719366431236267\n",
      "Test loss: 0.45826074481010437\n",
      "Epoch : 1\n",
      "Batch : 1 / Loss : 0.3080466091632843\n",
      "Batch : 2 / Loss : 0.34028053283691406\n",
      "Batch : 3 / Loss : 0.4222303330898285\n",
      "Batch : 4 / Loss : 0.35527747869491577\n",
      "Batch : 5 / Loss : 0.46489012241363525\n",
      "Batch : 6 / Loss : 0.40947678685188293\n",
      "Batch : 7 / Loss : 0.45276832580566406\n",
      "Batch : 8 / Loss : 0.34383994340896606\n",
      "Batch : 9 / Loss : 0.31809279322624207\n",
      "Batch : 10 / Loss : 0.2623659372329712\n",
      "Batch : 11 / Loss : 0.3975023627281189\n",
      "Batch : 12 / Loss : 0.2913028597831726\n",
      "Batch : 13 / Loss : 0.39442798495292664\n",
      "Test loss: 0.3541464526206255\n",
      "Epoch : 2\n",
      "Batch : 1 / Loss : 0.25862154364585876\n",
      "Batch : 2 / Loss : 0.30775341391563416\n",
      "Batch : 3 / Loss : 0.3498885929584503\n",
      "Batch : 4 / Loss : 0.2939750850200653\n",
      "Batch : 5 / Loss : 0.3963613212108612\n",
      "Batch : 6 / Loss : 0.34198829531669617\n",
      "Batch : 7 / Loss : 0.4289182424545288\n",
      "Batch : 8 / Loss : 0.3287995457649231\n",
      "Batch : 9 / Loss : 0.2839052677154541\n",
      "Batch : 10 / Loss : 0.2151700109243393\n",
      "Batch : 11 / Loss : 0.339374840259552\n",
      "Batch : 12 / Loss : 0.2509830594062805\n",
      "Batch : 13 / Loss : 0.36812981963157654\n",
      "Test loss: 0.2823792463168502\n"
     ]
    }
   ],
   "source": [
    "# training\n",
    "for epoch in range(3):\n",
    "    print (\"Epoch : {}\".format(epoch))\n",
    "    train(\n",
    "        dataset = dataset['train'],\n",
    "        batch_size = 5,\n",
    "        model = model,\n",
    "        optimizer = optimizer,\n",
    "        criterion = criterion\n",
    "    )\n",
    "    \n",
    "    test(\n",
    "        dataset = dataset['test'],\n",
    "        model = model,\n",
    "        criterion = criterion\n",
    "    )"
   ]
  },
  {
   "cell_type": "code",
   "execution_count": 12,
   "metadata": {},
   "outputs": [],
   "source": [
    "# save\n",
    "timestr = time.strftime(\"%Y%m%d-%H%M%S\")\n",
    "torch.save(model, f\"../seq2seq-{timestr}.pt\")"
   ]
  },
  {
   "cell_type": "code",
   "execution_count": 15,
   "metadata": {},
   "outputs": [],
   "source": [
    "model = torch.load(\"../seq2seq-20210107-203845.pt\")"
   ]
  },
  {
   "cell_type": "code",
   "execution_count": 16,
   "metadata": {},
   "outputs": [
    {
     "name": "stdout",
     "output_type": "stream",
     "text": [
      "              precision    recall  f1-score   support\n",
      "\n",
      "         0.0       0.95      0.95      0.95      2756\n",
      "         1.0       0.72      0.71      0.71       483\n",
      "\n",
      "    accuracy                           0.92      3239\n",
      "   macro avg       0.83      0.83      0.83      3239\n",
      "weighted avg       0.91      0.92      0.91      3239\n",
      "\n"
     ]
    }
   ],
   "source": [
    "test_ids = [idx for idx in ANNOTATIONS.keys() if idx not in TRAIN_IDS]\n",
    "test_ids = test_ids[:30]\n",
    "\n",
    "# eval\n",
    "predictions = np.array([])\n",
    "labels = np.array([])\n",
    "\n",
    "eval_config = {\n",
    "    'USER_IDS': [],\n",
    "    'DATAFRAME_PATH': DATAFRAME_PATH,\n",
    "    'CATEGORY': CATEGORY,\n",
    "    'ANNOTATIONS': ANNOTATIONS,\n",
    "    'PYTORCH_MODEL': PYTORCH_MODEL\n",
    "}\n",
    "\n",
    "for use_i in test_ids:\n",
    "    eval_config['USER_IDS'] = [use_i]\n",
    "    feature, label = load_data.VGGishEmbeddingDataset(eval_config)[0]\n",
    "    shape = feature.shape\n",
    "    ypred = model(feature.view(shape[0], 1, shape[1])).squeeze(dim=0)\n",
    "    m = nn.Softmax(dim=1)\n",
    "    prediction = (m(ypred)[:, 1] > THRESHOLD).long()\n",
    "    \n",
    "    predictions = np.concatenate([predictions, prediction.numpy()])\n",
    "    labels = np.concatenate([labels, label.numpy()])\n",
    "\n",
    "print (classification_report(y_true=labels, y_pred=predictions))"
   ]
  },
  {
   "cell_type": "code",
   "execution_count": null,
   "metadata": {},
   "outputs": [],
   "source": [
    "from sklearn.metrics import confusion_matrix\n",
    "\n",
    "confusion_matrix(y_true=labels, y_pred=predictions)"
   ]
  }
 ],
 "metadata": {
  "kernelspec": {
   "display_name": ".download-project",
   "language": "python",
   "name": ".download-project"
  },
  "language_info": {
   "codemirror_mode": {
    "name": "ipython",
    "version": 3
   },
   "file_extension": ".py",
   "mimetype": "text/x-python",
   "name": "python",
   "nbconvert_exporter": "python",
   "pygments_lexer": "ipython3",
   "version": "3.8.3"
  }
 },
 "nbformat": 4,
 "nbformat_minor": 4
}
