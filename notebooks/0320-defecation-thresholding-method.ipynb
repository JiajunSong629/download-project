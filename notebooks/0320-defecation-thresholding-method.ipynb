{
 "cells": [
  {
   "cell_type": "code",
   "execution_count": 1,
   "id": "common-france",
   "metadata": {},
   "outputs": [],
   "source": [
    "%load_ext autoreload\n",
    "%autoreload 2"
   ]
  },
  {
   "cell_type": "code",
   "execution_count": 2,
   "id": "illegal-reform",
   "metadata": {},
   "outputs": [],
   "source": [
    "from src.models import thresholdingRadarSum\n",
    "from src.post_analysis import WeightChangeCalculator\n",
    "from src.data import load_annotation\n",
    "from src.utils import apply_double_median_filter, apply_median_filter\n",
    "from tqdm.notebook import tqdm\n",
    "import numpy as np\n",
    "import pandas as pd\n",
    "import warnings\n",
    "warnings.filterwarnings(category=RuntimeWarning, action='ignore')"
   ]
  },
  {
   "cell_type": "code",
   "execution_count": 3,
   "id": "published-season",
   "metadata": {},
   "outputs": [],
   "source": [
    "annotations = load_annotation.get_annotation()\n",
    "defecate_ids = load_annotation.get_complete_ids('Defecation')"
   ]
  },
  {
   "cell_type": "code",
   "execution_count": 4,
   "id": "imposed-playlist",
   "metadata": {},
   "outputs": [
    {
     "data": {
      "text/plain": [
       "91"
      ]
     },
     "execution_count": 4,
     "metadata": {},
     "output_type": "execute_result"
    }
   ],
   "source": [
    "len(defecate_ids)"
   ]
  },
  {
   "cell_type": "code",
   "execution_count": 5,
   "id": "maritime-cleanup",
   "metadata": {},
   "outputs": [],
   "source": [
    "config = {\n",
    "    'USER_ID': 0,\n",
    "    'FILTER_WINDOW_SIZE': 11,\n",
    "    'THRESHOLD': 0.18,\n",
    "    'LEFT_EXTENSION_TIME': 0.6,\n",
    "    'RIGHT_EXTENSION_TIME': 0.8\n",
    "}\n",
    "\n",
    "error_rates = []\n",
    "true_intervals = []\n",
    "pred_intervals = []\n",
    "trues = []\n",
    "preds = []"
   ]
  },
  {
   "cell_type": "code",
   "execution_count": 6,
   "id": "injured-portuguese",
   "metadata": {},
   "outputs": [
    {
     "data": {
      "application/vnd.jupyter.widget-view+json": {
       "model_id": "866e237a9fb8410683e422c2a310c216",
       "version_major": 2,
       "version_minor": 0
      },
      "text/plain": [
       "  0%|          | 0/59 [00:00<?, ?it/s]"
      ]
     },
     "metadata": {},
     "output_type": "display_data"
    },
    {
     "name": "stdout",
     "output_type": "stream",
     "text": [
      "fail 1898\n"
     ]
    }
   ],
   "source": [
    "test = 0\n",
    "for user_id in tqdm(defecate_ids[defecate_ids > 1000]):\n",
    "#     test += 1\n",
    "#     if test > 10:\n",
    "#         break\n",
    "    try:\n",
    "        config['USER_ID'] = user_id\n",
    "        model = thresholdingRadarSum.ThresholdingRadarSum(config)\n",
    "        calculator = WeightChangeCalculator(user_id)\n",
    "\n",
    "        a_intervals = [[e.start, e.stop]\n",
    "                       for e in annotations[user_id] if e.event == 'Defecation']\n",
    "        p_intervals = model.get_pred_intervals()\n",
    "\n",
    "        true_weight_change = calculator.get_weight_change(\n",
    "            start_stop_list=a_intervals,\n",
    "            smooth_method=apply_double_median_filter,\n",
    "            window_size=21\n",
    "        )\n",
    "        pred_weight_change = calculator.get_weight_change(\n",
    "            start_stop_list=p_intervals,\n",
    "            smooth_method=apply_double_median_filter,\n",
    "            window_size=21\n",
    "        )\n",
    "\n",
    "        true_intervals.append(a_intervals)\n",
    "        pred_intervals.append(p_intervals)\n",
    "        trues.append(true_weight_change)\n",
    "        preds.append(pred_weight_change)\n",
    "        error_rate = abs(pred_weight_change -\n",
    "                         true_weight_change) / true_weight_change\n",
    "        error_rates.append(error_rate)\n",
    "        # print(f'{user_id} {a_intervals} {p_intervals}\\n{true_weight_change:.3f} {pred_weight_change:.3f} \\n{error_rate:.3f}')\n",
    "    except:\n",
    "        print(f'fail {user_id}')\n",
    "        continue"
   ]
  },
  {
   "cell_type": "code",
   "execution_count": 7,
   "id": "protective-compact",
   "metadata": {},
   "outputs": [
    {
     "data": {
      "text/plain": [
       "0.167913354531201"
      ]
     },
     "execution_count": 7,
     "metadata": {},
     "output_type": "execute_result"
    }
   ],
   "source": [
    "np.nanmedian(error_rates)"
   ]
  },
  {
   "cell_type": "code",
   "execution_count": 11,
   "id": "potential-anatomy",
   "metadata": {},
   "outputs": [],
   "source": [
    "res = pd.DataFrame({\n",
    "    'pred_intervals': pred_intervals,\n",
    "    'true_intervals': true_intervals,\n",
    "    'pred_weight_change': preds,\n",
    "    'true_weight_change': trues,\n",
    "    'error_rate': error_rates\n",
    "}, index = defecate_ids[(defecate_ids > 1000) & (defecate_ids != 1898)])\n",
    "\n",
    "res.to_csv('../data/processed/0320-defecate_overall_evaluation_result.csv')"
   ]
  },
  {
   "cell_type": "code",
   "execution_count": 24,
   "id": "together-arrow",
   "metadata": {},
   "outputs": [
    {
     "data": {
      "text/plain": [
       "(0.0623416768649147,\n",
       " 0.12872988505747282,\n",
       " 0.0845416666666523,\n",
       " 0.0189583333333303)"
      ]
     },
     "execution_count": 24,
     "metadata": {},
     "output_type": "execute_result"
    }
   ],
   "source": [
    "mean_weight_change = np.mean(res['true_weight_change'])\n",
    "median_weight_change = np.median(res['true_weight_change'])\n",
    "rmse = np.sqrt(np.mean( (res['pred_weight_change'] - res['true_weight_change']) ** 2 ))\n",
    "rmse, mean_weight_change, median_weight_change, np.median( np.abs(res['pred_weight_change'] - res['true_weight_change']) )"
   ]
  },
  {
   "cell_type": "code",
   "execution_count": 17,
   "id": "unsigned-punch",
   "metadata": {},
   "outputs": [
    {
     "data": {
      "text/plain": [
       "pred_intervals                          [[32, 41]]\n",
       "true_intervals        [[39.0, 41.0], [33.0, 37.0]]\n",
       "pred_weight_change                           0.251\n",
       "true_weight_change                       0.0923333\n",
       "error_rate                                 1.71841\n",
       "Name: 1926, dtype: object"
      ]
     },
     "execution_count": 17,
     "metadata": {},
     "output_type": "execute_result"
    }
   ],
   "source": [
    "res.loc[1926]"
   ]
  },
  {
   "cell_type": "code",
   "execution_count": null,
   "id": "supposed-equivalent",
   "metadata": {},
   "outputs": [],
   "source": []
  },
  {
   "cell_type": "code",
   "execution_count": 31,
   "id": "saving-newport",
   "metadata": {},
   "outputs": [
    {
     "data": {
      "text/plain": [
       "0.03108333333333846"
      ]
     },
     "execution_count": 31,
     "metadata": {},
     "output_type": "execute_result"
    }
   ],
   "source": [
    "res_last_d = pd.read_csv('../data/processed/defecate_overall_evaluation_result_0218.csv', index_col=0)\n",
    "\n",
    "np.nanmedian(np.abs(res_last_d['Annotated Weight Change'] - res_last_d['Predicted Weight Change']))"
   ]
  },
  {
   "cell_type": "code",
   "execution_count": 30,
   "id": "charming-marble",
   "metadata": {},
   "outputs": [
    {
     "data": {
      "text/plain": [
       "0.014666666666677514"
      ]
     },
     "execution_count": 30,
     "metadata": {},
     "output_type": "execute_result"
    }
   ],
   "source": [
    "res_last_u = pd.read_csv('../data/processed/urinate_overall_evaluation_result_0218.csv', index_col=0)\n",
    "\n",
    "np.nanmedian(np.abs(res_last_u['Annotated Weight Change'] - res_last_u['Predicted Weight Change']))"
   ]
  }
 ],
 "metadata": {
  "kernelspec": {
   "display_name": ".download-project",
   "language": "python",
   "name": ".download-project"
  },
  "language_info": {
   "codemirror_mode": {
    "name": "ipython",
    "version": 3
   },
   "file_extension": ".py",
   "mimetype": "text/x-python",
   "name": "python",
   "nbconvert_exporter": "python",
   "pygments_lexer": "ipython3",
   "version": "3.8.3"
  }
 },
 "nbformat": 4,
 "nbformat_minor": 5
}
