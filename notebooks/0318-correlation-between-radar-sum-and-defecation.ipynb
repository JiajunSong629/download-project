{
 "cells": [
  {
   "cell_type": "code",
   "execution_count": 1,
   "metadata": {},
   "outputs": [],
   "source": [
    "%load_ext autoreload\n",
    "%autoreload 2"
   ]
  },
  {
   "cell_type": "code",
   "execution_count": 2,
   "metadata": {},
   "outputs": [],
   "source": [
    "from tqdm.notebook import tqdm\n",
    "import numpy as np\n",
    "from src.data import load_radar, load_annotation\n",
    "from src.models.thresholdingRadarSum import ThresholdingRadarSum\n",
    "from src.post_analysis import WeightChangeCalculator"
   ]
  },
  {
   "cell_type": "markdown",
   "metadata": {},
   "source": [
    "- [x] implement get_area_under_radarsum()\n",
    "- [x] implement the prediction interval for manual algorithm\n",
    "- [x] implement weight change calculator"
   ]
  },
  {
   "cell_type": "code",
   "execution_count": 3,
   "metadata": {},
   "outputs": [],
   "source": [
    "annotations = load_annotation.get_annotation()\n",
    "\n",
    "# get all the defecation user_ids\n",
    "defecate_ids = load_annotation.get_complete_ids('Defecation')\n",
    "defecate_ids = defecate_ids[defecate_ids > 1000]"
   ]
  },
  {
   "cell_type": "markdown",
   "metadata": {},
   "source": [
    "# Generate"
   ]
  },
  {
   "cell_type": "code",
   "execution_count": 4,
   "metadata": {},
   "outputs": [
    {
     "data": {
      "application/vnd.jupyter.widget-view+json": {
       "model_id": "03f7fbd98b49473f9bb3a65a1edd7da3",
       "version_major": 2,
       "version_minor": 0
      },
      "text/plain": [
       "  0%|          | 0/59 [00:00<?, ?it/s]"
      ]
     },
     "metadata": {},
     "output_type": "display_data"
    },
    {
     "name": "stdout",
     "output_type": "stream",
     "text": [
      "fail 1898\n"
     ]
    }
   ],
   "source": [
    "# loop to get all the weight change and \n",
    "# area under curve\n",
    "weight_changes = []\n",
    "area_under_radars = []\n",
    "indices = []\n",
    "for user_id in tqdm(defecate_ids):\n",
    "    try:\n",
    "        weightChange = WeightChangeCalculator(user_id)\n",
    "        annotated_intervals = []\n",
    "        for event in annotations[user_id]:\n",
    "            if event.event == 'Defecation':\n",
    "                annotated_intervals.append([event.start, event.stop])\n",
    "        weight_change = weightChange.get_weight_change(\n",
    "            annotated_intervals, window_size=9)\n",
    "\n",
    "        area_under_radar = load_radar.get_area_under_radarsum(user_id, window_size = 9)\n",
    "        \n",
    "        indices.append(user_id)\n",
    "        weight_changes.append(weight_change)\n",
    "        area_under_radars.append(area_under_radar)\n",
    "    except:\n",
    "        print(f'fail {user_id}')\n",
    "        continue"
   ]
  },
  {
   "cell_type": "markdown",
   "metadata": {},
   "source": [
    "# Save results"
   ]
  },
  {
   "cell_type": "code",
   "execution_count": 5,
   "metadata": {},
   "outputs": [],
   "source": [
    "from matplotlib import pyplot as plt\n",
    "import pandas as pd"
   ]
  },
  {
   "cell_type": "code",
   "execution_count": 14,
   "metadata": {},
   "outputs": [],
   "source": [
    "res_df = pd.DataFrame({\n",
    "    'weight_change': weight_changes,\n",
    "    'area_under_radarsum': area_under_radars\n",
    "}, index=defecate_ids[defecate_ids != 1898])#.to_csv('../data/processed/correlation-radar-sum-defecate-weight.csv')\n",
    "\n",
    "res_df.to_csv('../data/processed/correlation-radar-sum-defecate-weight.csv')"
   ]
  },
  {
   "cell_type": "code",
   "execution_count": 8,
   "metadata": {},
   "outputs": [
    {
     "data": {
      "text/plain": [
       "[<matplotlib.lines.Line2D at 0x24383213f10>]"
      ]
     },
     "execution_count": 8,
     "metadata": {},
     "output_type": "execute_result"
    },
    {
     "data": {
      "image/png": "[encoded data removed]",
      "text/plain": [
       "<Figure size 432x288 with 1 Axes>"
      ]
     },
     "metadata": {
      "needs_background": "light"
     },
     "output_type": "display_data"
    }
   ],
   "source": [
    "plt.plot(res_df['area_under_radarsum'], res_df['weight_change'], '.')"
   ]
  },
  {
   "cell_type": "code",
   "execution_count": 13,
   "metadata": {},
   "outputs": [
    {
     "data": {
      "image/png": "[encoded data removed]",
      "text/plain": [
       "<Figure size 432x288 with 1 Axes>"
      ]
     },
     "metadata": {
      "needs_background": "light"
     },
     "output_type": "display_data"
    }
   ],
   "source": [
    "x = np.array(area_under_radars)\n",
    "y = np.array(weight_changes)\n",
    "\n",
    "excluded = x > 30\n",
    "x = x[~excluded]\n",
    "y = y[~excluded]\n",
    "\n",
    "m, b = np.polyfit(x, y, 1)\n",
    "yhat = m * x + b\n",
    "\n",
    "plt.plot(x, y, '.')\n",
    "plt.plot(x, yhat)\n",
    "plt.xlim(0, 30)\n",
    "pass"
   ]
  },
  {
   "cell_type": "code",
   "execution_count": null,
   "metadata": {},
   "outputs": [],
   "source": []
  },
  {
   "cell_type": "code",
   "execution_count": null,
   "metadata": {},
   "outputs": [],
   "source": []
  },
  {
   "cell_type": "code",
   "execution_count": null,
   "metadata": {},
   "outputs": [],
   "source": []
  },
  {
   "cell_type": "code",
   "execution_count": null,
   "metadata": {},
   "outputs": [],
   "source": []
  }
 ],
 "metadata": {
  "kernelspec": {
   "display_name": ".download-project",
   "language": "python",
   "name": ".download-project"
  },
  "language_info": {
   "codemirror_mode": {
    "name": "ipython",
    "version": 3
   },
   "file_extension": ".py",
   "mimetype": "text/x-python",
   "name": "python",
   "nbconvert_exporter": "python",
   "pygments_lexer": "ipython3",
   "version": "3.8.3"
  }
 },
 "nbformat": 4,
 "nbformat_minor": 2
}
