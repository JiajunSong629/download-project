{
 "cells": [
  {
   "cell_type": "code",
   "execution_count": null,
   "id": "angry-forge",
   "metadata": {},
   "outputs": [],
   "source": [
    "\"\"\"\n",
    "Can you calculate:\n",
    "\n",
    "- How much of the total time people urinate and defecate are these events overlapping? \n",
    "- What fraction of total output mass takes place during this overlap?\n",
    "\n",
    "0318\n",
    "- Can you please calculate  O / (U + D + O) (Where U and D are urination/defecation WITHOUT the overlap)\n",
    "Calculate both for weight and time.\n",
    "\n",
    "0319\n",
    "Given the table you've already made of output masses for urine/stool, can you please calculate\n",
    "the mean and standard deviation of: \n",
    "    - Urine mass\n",
    "    - Rate at which urine mass is expelled\n",
    "    - Stool mass\n",
    "    - Rate at which stool mass is expelled\n",
    "\"\"\""
   ]
  },
  {
   "cell_type": "markdown",
   "id": "noted-mustang",
   "metadata": {},
   "source": [
    "# 0314 Implementation"
   ]
  },
  {
   "cell_type": "code",
   "execution_count": null,
   "id": "destroyed-morocco",
   "metadata": {},
   "outputs": [],
   "source": [
    "from src.data import load_annotation, load_weight_sensor\n",
    "from src.data.load_annotation import Annotated_Event\n",
    "from scipy import signal\n",
    "import numpy as np\n",
    "import pandas as pd\n",
    "from typing import List, Optional\n",
    "from tqdm.notebook import tqdm\n",
    "import matplotlib.pyplot as plt\n",
    "import seaborn as sns\n",
    "\n",
    "annotations = load_annotation.get_annotation()"
   ]
  },
  {
   "cell_type": "code",
   "execution_count": null,
   "id": "cleared-beauty",
   "metadata": {},
   "outputs": [],
   "source": [
    "def get_overlap_from_two_lists_of_annotation(\n",
    "    defecate_annotations: List[Annotated_Event],\n",
    "    urinate_annotations: List[Annotated_Event]\n",
    ") -> List[List[float]]:\n",
    "    \"\"\"\n",
    "    Get the overlap timestamps from the annotations of\n",
    "    urination and defecation.\n",
    "    \"\"\" \n",
    "    overlaps = []\n",
    "    for d in defecate_annotations:\n",
    "        for u in urinate_annotations:\n",
    "            # if overlap\n",
    "            if d.start < u.start and d.stop > u.start:\n",
    "                overlaps.append([u.start, min(d.stop, u.stop)])\n",
    "            elif d.start > u.start and u.stop > d.start:\n",
    "                overlaps.append([d.start, min(u.stop, d.stop)])\n",
    "    return overlaps\n",
    "\n",
    "def get_total_duration(start_stop_list: List[List[float]]) -> float:\n",
    "    return sum(ss[1] - ss[0] for ss in start_stop_list)\n",
    "\n",
    "def get_start_stop_for_user_id(user_id: int, event: str) -> List[List[float]]:\n",
    "    \"\"\"\n",
    "    Get a list of [start, stop] annotations for user_id given event.\n",
    "    \"\"\"\n",
    "    return [[a.start, a.stop] for a in annotations[user_id] if a.event == event]\n",
    "\n",
    "def get_overlap_for_user_id(user_id: int) -> np.ndarray:\n",
    "    \"\"\"\n",
    "    Get overlap for user user_id.\n",
    "    \"\"\"\n",
    "    annotations_i = annotations[user_id]\n",
    "    d_list = [a for a in annotations_i if a.event == \"Defecation\"]\n",
    "    u_list = [a for a in annotations_i if a.event == \"Urination\"]\n",
    "    return get_overlap_from_two_lists_of_annotation(d_list, u_list)"
   ]
  },
  {
   "cell_type": "code",
   "execution_count": null,
   "id": "tracked-snake",
   "metadata": {},
   "outputs": [],
   "source": [
    "def get_diff_end_minus_start(arr: np.array) -> float:\n",
    "    if len(arr) == 0:\n",
    "        return 0\n",
    "    st, ed = arr[0], arr[-1]\n",
    "    if st > ed:\n",
    "        return (st - ed)\n",
    "    else:\n",
    "        return 0\n",
    "\n",
    "\n",
    "def apply_median_filter(sz: pd.Series, **kwargs) -> pd.Series:\n",
    "    filt_sz = pd.Series(signal.medfilt(sz, kwargs['window_size']))\n",
    "    filt_sz.index = sz.index\n",
    "    return filt_sz\n",
    "\n",
    "DIFF_METHODS = {\n",
    "    'EndMinusStart': get_diff_end_minus_start\n",
    "}\n",
    "\n",
    "SMOOTH_METHODS = {\n",
    "    'MedianFilter': apply_median_filter\n",
    "}"
   ]
  },
  {
   "cell_type": "code",
   "execution_count": null,
   "id": "formal-circus",
   "metadata": {},
   "outputs": [],
   "source": [
    "class WeightChangeCalculator:\n",
    "    def __init__(self, user_id):\n",
    "        self.user_id = user_id\n",
    "        self.total_weight_clean = load_weight_sensor.get_total_weight_clean(\n",
    "            user_id)\n",
    "\n",
    "    def get_total_weight_smoothed(self, smooth_method_name: str) -> pd.Series:\n",
    "        \"\"\"\n",
    "        Smooth the total weight data with the assigned method.\n",
    "        \"\"\"\n",
    "        return SMOOTH_METHODS[smooth_method_name](\n",
    "            self.total_weight_clean,\n",
    "            window_size=11\n",
    "        )\n",
    "\n",
    "    def get_weight_change(\n",
    "        self,\n",
    "        start_stop_list: List[List[float]],\n",
    "        smooth_method_name: Optional[str] = 'MedianFilter',\n",
    "        diff_method_name: Optional[str] = 'EndMinusStart'\n",
    "    ) -> float:\n",
    "        \"\"\"\n",
    "        Get the weight change during a list of [start, stop]\n",
    "        \"\"\"\n",
    "        total_weight_smooth = self.get_total_weight_smoothed(\n",
    "            smooth_method_name)\n",
    "\n",
    "        res = 0\n",
    "        for start_stop in start_stop_list:\n",
    "            start, stop = start_stop\n",
    "            total_weight_within = total_weight_smooth[\n",
    "                (total_weight_smooth.index >= start) &\n",
    "                (total_weight_smooth.index <= stop)\n",
    "            ]\n",
    "\n",
    "            res += DIFF_METHODS[diff_method_name](total_weight_within.values)\n",
    "\n",
    "        return res"
   ]
  },
  {
   "cell_type": "code",
   "execution_count": null,
   "id": "about-eight",
   "metadata": {},
   "outputs": [],
   "source": [
    "# get_overlap_for_user_id(1806)\n",
    "\n",
    "records = []\n",
    "indexes = []\n",
    "\n",
    "for user_id in tqdm(annotations.keys()):\n",
    "    if user_id < 1000:\n",
    "        continue\n",
    "    \n",
    "    weight_change_calculator = WeightChangeCalculator(user_id)\n",
    "    \n",
    "    d = get_start_stop_for_user_id(user_id, event='Defecation')\n",
    "    u = get_start_stop_for_user_id(user_id, event='Urination')\n",
    "    o = get_overlap_for_user_id(user_id)\n",
    "    \n",
    "    d_duration = get_total_duration(d)\n",
    "    u_duration = get_total_duration(u)\n",
    "    o_duration = get_total_duration(o)\n",
    "    \n",
    "    d_weight = weight_change_calculator.get_weight_change(d)\n",
    "    u_weight = weight_change_calculator.get_weight_change(u)\n",
    "    o_weight = weight_change_calculator.get_weight_change(o)\n",
    "    \n",
    "    records.append([\n",
    "        d, u, o,\n",
    "        d_duration, u_duration, o_duration,\n",
    "        d_weight, u_weight, o_weight\n",
    "    ])\n",
    "    \n",
    "    indexes.append(user_id)"
   ]
  },
  {
   "cell_type": "code",
   "execution_count": null,
   "id": "wrong-synthetic",
   "metadata": {},
   "outputs": [],
   "source": [
    "records_df = pd.DataFrame(\n",
    "    records,\n",
    "    columns=[\n",
    "        'Defecation', 'Urination', 'Overlap',\n",
    "        'D-duration (s)', 'U-duration (s)', 'O-duration (s)',\n",
    "        'D-weight (kg)', 'U-weight (kg)', 'O-weight (kg)'\n",
    "    ],\n",
    "    index = indexes\n",
    ")\n",
    "\n",
    "records_df"
   ]
  },
  {
   "cell_type": "code",
   "execution_count": null,
   "id": "spectacular-spencer",
   "metadata": {},
   "outputs": [],
   "source": [
    "records_df.to_csv('../data/processed/0315-investigating-overlap.csv')"
   ]
  },
  {
   "cell_type": "markdown",
   "id": "dedicated-array",
   "metadata": {},
   "source": [
    "# 0318 Evaluation"
   ]
  },
  {
   "cell_type": "code",
   "execution_count": null,
   "id": "coordinate-nepal",
   "metadata": {},
   "outputs": [],
   "source": [
    "res_df = pd.read_csv('../data/processed/0315-investigating-overlap.csv', index_col=0)"
   ]
  },
  {
   "cell_type": "code",
   "execution_count": null,
   "id": "bulgarian-aquatic",
   "metadata": {},
   "outputs": [],
   "source": [
    "contingency_tbl = np.zeros((2,2))\n",
    "\n",
    "if_urination = res_df['U-duration (s)'] != 0\n",
    "if_defecation = res_df['D-duration (s)'] != 0\n",
    "\n",
    "contingency_tbl[0, 0] = sum(   if_defecation &    if_urination)\n",
    "contingency_tbl[0, 1] = sum(   if_defecation &  (~if_urination))\n",
    "contingency_tbl[1, 0] = sum( (~if_defecation) &   if_urination)\n",
    "contingency_tbl[1, 1] = 0"
   ]
  },
  {
   "cell_type": "markdown",
   "id": "stuffed-mixture",
   "metadata": {},
   "source": [
    "## Contingency table: 58 cases have both urination and defecation"
   ]
  },
  {
   "cell_type": "code",
   "execution_count": null,
   "id": "other-input",
   "metadata": {},
   "outputs": [],
   "source": [
    "pd.DataFrame(\n",
    "    contingency_tbl.astype(int),\n",
    "    columns=['U-Y', 'U-N'],\n",
    "    index = ['D-Y', 'D-N']\n",
    ")"
   ]
  },
  {
   "cell_type": "markdown",
   "id": "hazardous-female",
   "metadata": {},
   "source": [
    "## 24 out of 58 have overlaps"
   ]
  },
  {
   "cell_type": "code",
   "execution_count": null,
   "id": "prostate-petite",
   "metadata": {},
   "outputs": [],
   "source": [
    "res_sub_df = res_df[if_defecation & if_urination]\n",
    "\n",
    "sum(res_sub_df['O-duration (s)'] > 0), len(res_sub_df)"
   ]
  },
  {
   "cell_type": "markdown",
   "id": "ordered-combination",
   "metadata": {},
   "source": [
    "## Visualize the 24 overlap cases"
   ]
  },
  {
   "cell_type": "code",
   "execution_count": null,
   "id": "underlying-institute",
   "metadata": {},
   "outputs": [],
   "source": [
    "# time\n",
    "overlaps_df = res_sub_df[res_sub_df['O-duration (s)'] > 0]\n",
    "time_overlap = overlaps_df['O-duration (s)'] / (\n",
    "    overlaps_df['U-duration (s)'] + overlaps_df['D-duration (s)'] - overlaps_df['O-duration (s)'])\n",
    "# weight\n",
    "weight_overlap = overlaps_df['O-weight (kg)'] / (\n",
    "    overlaps_df['U-weight (kg)'] + overlaps_df['D-weight (kg)'] - overlaps_df['O-weight (kg)'])"
   ]
  },
  {
   "cell_type": "code",
   "execution_count": null,
   "id": "approximate-comedy",
   "metadata": {},
   "outputs": [],
   "source": [
    "plt.figure(figsize=(10, 3))\n",
    "plt.subplot(121)\n",
    "sns.boxplot(x = time_overlap)\n",
    "plt.xlim(0, 1)\n",
    "plt.title('Time')\n",
    "\n",
    "plt.subplot(122)\n",
    "sns.boxplot(x = weight_overlap)\n",
    "plt.xlim(0, 1)\n",
    "plt.title('Weight')\n",
    "\n",
    "plt.tight_layout()\n",
    "\n",
    "plt.savefig('../reports/figures/overlap-evaluation.png')\n",
    "pass"
   ]
  },
  {
   "cell_type": "code",
   "execution_count": null,
   "id": "deadly-bookmark",
   "metadata": {},
   "outputs": [],
   "source": [
    "np.mean(time_overlap), np.std(time_overlap)"
   ]
  },
  {
   "cell_type": "code",
   "execution_count": null,
   "id": "heavy-separation",
   "metadata": {},
   "outputs": [],
   "source": [
    "np.mean(weight_overlap), np.std(weight_overlap)"
   ]
  }
 ],
 "metadata": {
  "kernelspec": {
   "display_name": ".download-project",
   "language": "python",
   "name": ".download-project"
  },
  "language_info": {
   "codemirror_mode": {
    "name": "ipython",
    "version": 3
   },
   "file_extension": ".py",
   "mimetype": "text/x-python",
   "name": "python",
   "nbconvert_exporter": "python",
   "pygments_lexer": "ipython3",
   "version": "3.8.3"
  }
 },
 "nbformat": 4,
 "nbformat_minor": 5
}
