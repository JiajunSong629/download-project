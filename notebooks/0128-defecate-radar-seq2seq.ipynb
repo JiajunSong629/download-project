{
 "cells": [
  {
   "cell_type": "code",
   "execution_count": 1,
   "metadata": {
    "scrolled": true
   },
   "outputs": [],
   "source": [
    "import numpy as np\n",
    "import pandas as pa\n",
    "import pickle\n",
    "import librosa.display\n",
    "\n",
    "from src.utils import get_framed_label, train_test_split, from_boolean_array_to_intervals, get_annotated_intervals\n",
    "from src.data import load_annotation\n",
    "from src.data import load_radar, load_water_distance, load_weight_sensor, load_audio\n",
    "from src import make_dataset\n",
    "\n",
    "from matplotlib import pyplot as plt"
   ]
  },
  {
   "cell_type": "code",
   "execution_count": 2,
   "metadata": {},
   "outputs": [],
   "source": [
    "config = {\n",
    "    'USE_IDS': [],\n",
    "    'DATAFRAME_PATH': \"C:/Users/Jiajun/Desktop/download-project/data/raw/data_frames\",\n",
    "    'ANNOTATION_PATH': \"C:/Users/Jiajun/Desktop/download-project/data/processed/Annotation.csv\",\n",
    "    'WINDOW_SECONDS': 3,\n",
    "    'HOP_SECONDS': 1,\n",
    "    'CATEGORY': 'Defecation',\n",
    "}\n",
    "\n",
    "complete_ids = load_annotation.get_complete_ids(\n",
    "    annotation_filename = config['ANNOTATION_PATH'],\n",
    "    category = config['CATEGORY']\n",
    ")\n",
    "\n",
    "annotations = load_annotation.get_annotation(config['ANNOTATION_PATH'])"
   ]
  },
  {
   "cell_type": "code",
   "execution_count": 3,
   "metadata": {},
   "outputs": [
    {
     "name": "stdout",
     "output_type": "stream",
     "text": [
      "Category: Defecation\n",
      "Training 12 use_ids: [1831, 1863, 1862, 1830, 1881]...\n",
      "Testing  3 use_ids: [1854, 1882, 1890]...\n"
     ]
    }
   ],
   "source": [
    "selected_ids = complete_ids[(complete_ids < 1900) & (complete_ids > 1000)]\n",
    "\n",
    "TRAIN_IDS, TEST_IDS = train_test_split(selected_ids)\n",
    "\n",
    "#TRAIN_IDS = [987, 960, 954, 964, 968, 979, 976, 993, 953, 982, 984, 995, 985, 958]\n",
    "#TEST_IDS = [989, 970, 971, 986, 978, 992]\n",
    "\n",
    "print(f\"Category: {config['CATEGORY']}\")\n",
    "print(f\"Training {len(TRAIN_IDS)} use_ids: {TRAIN_IDS[:5]}...\")\n",
    "print(f\"Testing  {len(TEST_IDS)} use_ids: {TEST_IDS[:5]}...\")"
   ]
  },
  {
   "cell_type": "code",
   "execution_count": 4,
   "metadata": {},
   "outputs": [],
   "source": [
    "train_config = config.copy()\n",
    "test_config = config.copy()\n",
    "\n",
    "train_config['USE_IDS'] = TRAIN_IDS\n",
    "test_config['USE_IDS'] = TEST_IDS\n",
    "\n",
    "dataset = {}\n",
    "dataset['train'] = make_dataset.Seq2SeqDatasetDefecate(train_config)\n",
    "dataset['test'] = make_dataset.Seq2SeqDatasetDefecate(test_config)"
   ]
  },
  {
   "cell_type": "code",
   "execution_count": null,
   "metadata": {},
   "outputs": [],
   "source": []
  },
  {
   "cell_type": "code",
   "execution_count": 5,
   "metadata": {},
   "outputs": [],
   "source": [
    "train_x, train_y = [], []\n",
    "for i in range(len(dataset['train'])):\n",
    "    x, y = dataset['train'][i]\n",
    "    train_x.append(x.numpy())\n",
    "    train_y.append(y.numpy())\n",
    "train_x = np.concatenate(train_x)\n",
    "train_y = np.concatenate(train_y)"
   ]
  },
  {
   "cell_type": "code",
   "execution_count": 6,
   "metadata": {},
   "outputs": [],
   "source": [
    "test_x, test_y = [], []\n",
    "for i in range(len(dataset['test'])):\n",
    "    x, y = dataset['test'][i]\n",
    "    test_x.append(x.numpy())\n",
    "    test_y.append(y.numpy())\n",
    "\n",
    "test_x = np.concatenate(test_x)\n",
    "test_y = np.concatenate(test_y)"
   ]
  },
  {
   "cell_type": "code",
   "execution_count": 7,
   "metadata": {},
   "outputs": [],
   "source": [
    "from sklearn.ensemble import RandomForestClassifier\n",
    "from sklearn.metrics import classification_report"
   ]
  },
  {
   "cell_type": "code",
   "execution_count": 8,
   "metadata": {},
   "outputs": [
    {
     "data": {
      "text/plain": [
       "RandomForestClassifier(n_estimators=5)"
      ]
     },
     "execution_count": 8,
     "metadata": {},
     "output_type": "execute_result"
    }
   ],
   "source": [
    "rf = RandomForestClassifier(n_estimators=5)\n",
    "rf.fit(train_x, train_y)"
   ]
  },
  {
   "cell_type": "code",
   "execution_count": 9,
   "metadata": {},
   "outputs": [
    {
     "name": "stdout",
     "output_type": "stream",
     "text": [
      "              precision    recall  f1-score   support\n",
      "\n",
      "           0       1.00      0.98      0.99       552\n",
      "           1       0.57      0.92      0.71        13\n",
      "\n",
      "    accuracy                           0.98       565\n",
      "   macro avg       0.78      0.95      0.85       565\n",
      "weighted avg       0.99      0.98      0.98       565\n",
      "\n"
     ]
    }
   ],
   "source": [
    "print (classification_report(\n",
    "    y_true=test_y,\n",
    "    y_pred=np.array(rf.predict_proba(test_x)[:, 1] > 0.3, dtype=int))\n",
    ")"
   ]
  },
  {
   "cell_type": "code",
   "execution_count": 10,
   "metadata": {},
   "outputs": [
    {
     "name": "stdout",
     "output_type": "stream",
     "text": [
      "              precision    recall  f1-score   support\n",
      "\n",
      "           0       1.00      0.99      0.99       552\n",
      "           1       0.65      0.85      0.73        13\n",
      "\n",
      "    accuracy                           0.99       565\n",
      "   macro avg       0.82      0.92      0.86       565\n",
      "weighted avg       0.99      0.99      0.99       565\n",
      "\n"
     ]
    }
   ],
   "source": [
    "print (classification_report(\n",
    "    y_true=test_y,\n",
    "    y_pred=np.array(rf.predict_proba(test_x)[:, 1] > 0.4, dtype=int))\n",
    ")"
   ]
  },
  {
   "cell_type": "markdown",
   "metadata": {},
   "source": [
    "# Model"
   ]
  },
  {
   "cell_type": "code",
   "execution_count": 11,
   "metadata": {},
   "outputs": [],
   "source": [
    "import torch\n",
    "import torch.nn as nn\n",
    "import torch.nn.functional as F\n",
    "import torch.optim as optim\n",
    "\n",
    "from src.seq2seq.train import train_test_split, train, test\n",
    "from src.seq2seq.model import LSTMClassifier\n",
    "\n",
    "import warnings\n",
    "warnings.filterwarnings(\"ignore\", category=UserWarning)"
   ]
  },
  {
   "cell_type": "code",
   "execution_count": 14,
   "metadata": {},
   "outputs": [],
   "source": [
    "# model\n",
    "NUM_EPOCHS = 5\n",
    "\n",
    "model = LSTMClassifier(input_dim = 60, hidden_dim = 64, output_dim = 2, num_layers = 2)\n",
    "optimizer = optim.SGD(model.parameters(), lr = 0.3)\n",
    "criterion = nn.CrossEntropyLoss()"
   ]
  },
  {
   "cell_type": "code",
   "execution_count": 15,
   "metadata": {},
   "outputs": [
    {
     "name": "stdout",
     "output_type": "stream",
     "text": [
      "Epoch : 0\n",
      "Batch : 1 / Loss : 0.7707870006561279\n",
      "Batch : 2 / Loss : 0.20072075724601746\n",
      "Batch : 3 / Loss : 0.16629882156848907\n",
      "Test loss: 0.13599988569815954\n",
      "Epoch : 1\n",
      "Batch : 1 / Loss : 0.1702488213777542\n",
      "Batch : 2 / Loss : 0.16729328036308289\n",
      "Batch : 3 / Loss : 0.14816823601722717\n",
      "Test loss: 0.11231497426827748\n",
      "Epoch : 2\n",
      "Batch : 1 / Loss : 0.15201470255851746\n",
      "Batch : 2 / Loss : 0.1638912409543991\n",
      "Batch : 3 / Loss : 0.1344224065542221\n",
      "Test loss: 0.10826782261331876\n",
      "Epoch : 3\n",
      "Batch : 1 / Loss : 0.14575885236263275\n",
      "Batch : 2 / Loss : 0.16236014664173126\n",
      "Batch : 3 / Loss : 0.12545129656791687\n",
      "Test loss: 0.09899155174692471\n",
      "Epoch : 4\n",
      "Batch : 1 / Loss : 0.1388704478740692\n",
      "Batch : 2 / Loss : 0.1517849862575531\n",
      "Batch : 3 / Loss : 0.1161779910326004\n",
      "Test loss: 0.09926529352863629\n"
     ]
    }
   ],
   "source": [
    "# training\n",
    "for epoch in range(NUM_EPOCHS):\n",
    "    print (\"Epoch : {}\".format(epoch))\n",
    "    train(\n",
    "        dataset = dataset['train'],\n",
    "        batch_size = 5,\n",
    "        model = model,\n",
    "        optimizer = optimizer,\n",
    "        criterion = criterion\n",
    "    )\n",
    "    \n",
    "    test(\n",
    "        dataset = dataset['test'],\n",
    "        model = model,\n",
    "        criterion = criterion\n",
    "    )"
   ]
  },
  {
   "cell_type": "code",
   "execution_count": null,
   "metadata": {},
   "outputs": [],
   "source": []
  },
  {
   "cell_type": "code",
   "execution_count": 16,
   "metadata": {},
   "outputs": [],
   "source": [
    "# eval\n",
    "THRESHOLD = 0.3\n",
    "predictions = np.array([])\n",
    "labels = np.array([])\n",
    "\n",
    "for use_i in TEST_IDS:\n",
    "    eval_config = config.copy()\n",
    "    eval_config['USE_IDS'] = [use_i]\n",
    "    feature, label = make_dataset.Seq2SeqDatasetDefecate(eval_config)[0]\n",
    "    shape = feature.shape\n",
    "    ypred = model(feature.view(shape[0], 1, shape[1])).squeeze(dim=0)\n",
    "    m = nn.Softmax(dim=1)\n",
    "    prediction = m(ypred)[:, 1].long()\n",
    "    \n",
    "    predictions = np.concatenate([predictions, prediction.numpy()])\n",
    "    labels = np.concatenate([labels, label.numpy()])"
   ]
  },
  {
   "cell_type": "code",
   "execution_count": null,
   "metadata": {},
   "outputs": [],
   "source": [
    "from sklearn.metrics import classification_report"
   ]
  },
  {
   "cell_type": "code",
   "execution_count": null,
   "metadata": {},
   "outputs": [],
   "source": [
    "print (classification_report(\n",
    "    y_true=labels,\n",
    "    y_pred=predictions))"
   ]
  },
  {
   "cell_type": "code",
   "execution_count": 17,
   "metadata": {},
   "outputs": [
    {
     "data": {
      "text/plain": [
       "array([0., 0., 0., 0., 0., 0., 0., 0., 0., 0., 0., 0., 0., 0., 0., 0., 0.,\n",
       "       0., 0., 0., 0., 0., 0., 0., 0., 0., 0., 0., 0., 0., 0., 0., 0., 0.,\n",
       "       0., 0., 0., 0., 0., 0., 0., 0., 0., 0., 0., 0., 0., 0., 0., 0., 0.,\n",
       "       0., 0., 0., 0., 0., 0., 0., 0., 0., 0., 0., 0., 0., 0., 0., 0., 0.,\n",
       "       0., 0., 0., 0., 0., 0., 0., 0., 0., 0., 0., 0., 0., 0., 0., 0., 0.,\n",
       "       0., 0., 0., 0., 0., 0., 0., 0., 0., 0., 0., 0., 0., 0., 0., 0., 0.,\n",
       "       0., 0., 0., 0., 0., 0., 0., 0., 0., 0., 0., 0., 0., 0., 0., 0., 0.,\n",
       "       0., 0., 0., 0., 0., 0., 0., 0., 0., 0., 0., 0., 0., 0., 0., 0., 0.,\n",
       "       0., 0., 0., 0., 0., 0., 0., 0., 0., 0., 0., 0., 0., 0., 0., 0., 0.,\n",
       "       0., 0., 0., 0., 0., 0., 0., 0., 0., 0., 0., 0., 0., 0., 0., 0., 0.,\n",
       "       0., 0., 0., 0., 0., 0., 0., 0., 0., 0., 0., 0., 0., 0., 0., 0., 0.,\n",
       "       0., 0., 0., 0., 0., 0., 0., 0., 0., 0., 0., 0., 0., 0., 0., 0., 0.,\n",
       "       0., 0., 0., 0., 0., 0., 0., 0., 0., 0., 0., 0., 0., 0., 0., 0., 0.,\n",
       "       0., 0., 0., 0., 0., 0., 0., 0., 0., 0., 0., 0., 0., 0., 0., 0., 0.,\n",
       "       0., 0., 0., 0., 0., 0., 0., 0., 0., 0., 0., 0., 0., 0., 0., 0., 0.,\n",
       "       0., 0., 0., 0., 0., 0., 0., 0., 0., 0., 0., 0., 0., 0., 0., 0., 0.,\n",
       "       0., 0., 0., 0., 0., 0., 0., 0., 0., 0., 0., 0., 0., 0., 0., 0., 0.,\n",
       "       0., 0., 0., 0., 0., 0., 0., 0., 0., 0., 0., 0., 0., 0., 0., 0., 0.,\n",
       "       0., 0., 0., 0., 0., 0., 0., 0., 0., 0., 0., 0., 0., 0., 0., 0., 0.,\n",
       "       0., 0., 0., 0., 0., 0., 0., 0., 0., 0., 0., 0., 0., 0., 0., 0., 0.,\n",
       "       0., 0., 0., 0., 0., 0., 0., 0., 0., 0., 0., 0., 0., 0., 0., 0., 0.,\n",
       "       0., 0., 0., 0., 0., 0., 0., 0., 0., 0., 0., 0., 0., 0., 0., 0., 0.,\n",
       "       0., 0., 0., 0., 0., 0., 0., 0., 0., 0., 0., 0., 0., 0., 0., 0., 0.,\n",
       "       0., 0., 0., 0., 0., 0., 0., 0., 0., 0., 0., 0., 0., 0., 0., 0., 0.,\n",
       "       0., 0., 0., 0., 0., 0., 0., 0., 0., 0., 0., 0., 0., 0., 0., 0., 0.,\n",
       "       0., 0., 0., 0., 0., 0., 0., 0., 0., 0., 0., 0., 0., 0., 0., 0., 0.,\n",
       "       0., 0., 0., 0., 0., 0., 0., 0., 0., 0., 0., 0., 0., 0., 0., 0., 0.,\n",
       "       0., 0., 0., 0., 0., 0., 0., 0., 0., 0., 0., 0., 0., 0., 0., 0., 0.,\n",
       "       0., 0., 0., 0., 0., 0., 0., 0., 0., 0., 0., 0., 0., 0., 0., 0., 0.,\n",
       "       0., 0., 0., 0., 0., 0., 0., 0., 0., 0., 0., 0., 0., 0., 0., 0., 0.,\n",
       "       0., 0., 0., 0., 0., 0., 0., 0., 0., 0., 0., 0., 0., 0., 0., 0., 0.,\n",
       "       0., 0., 0., 0., 0., 0., 0., 0., 0., 0., 0., 0., 0., 0., 0., 0., 0.,\n",
       "       0., 0., 0., 0., 0., 0., 0., 0., 0., 0., 0., 0., 0., 0., 0., 0., 0.,\n",
       "       0., 0., 0., 0.])"
      ]
     },
     "execution_count": 17,
     "metadata": {},
     "output_type": "execute_result"
    }
   ],
   "source": [
    "predictions"
   ]
  }
 ],
 "metadata": {
  "kernelspec": {
   "display_name": ".download-project",
   "language": "python",
   "name": ".download-project"
  },
  "language_info": {
   "codemirror_mode": {
    "name": "ipython",
    "version": 3
   },
   "file_extension": ".py",
   "mimetype": "text/x-python",
   "name": "python",
   "nbconvert_exporter": "python",
   "pygments_lexer": "ipython3",
   "version": "3.8.3"
  }
 },
 "nbformat": 4,
 "nbformat_minor": 4
}
