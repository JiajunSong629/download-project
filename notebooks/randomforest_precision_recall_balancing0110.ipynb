{
 "cells": [
  {
   "cell_type": "code",
   "execution_count": 1,
   "metadata": {},
   "outputs": [],
   "source": [
    "import os\n",
    "import sys\n",
    "import time\n",
    "import numpy as np\n",
    "import matplotlib.pyplot as plt\n",
    "\n",
    "from sklearn.metrics import classification_report, confusion_matrix\n",
    "from sklearn.ensemble import RandomForestClassifier\n",
    "\n",
    "from src.data import load_annotation, load_data\n",
    "from src.utils.train import train_test_split\n",
    "\n",
    "import warnings\n",
    "warnings.filterwarnings(\"ignore\", category=RuntimeWarning)"
   ]
  },
  {
   "cell_type": "code",
   "execution_count": 2,
   "metadata": {},
   "outputs": [
    {
     "name": "stdout",
     "output_type": "stream",
     "text": [
      "Training on 117 cases, [2021, 2005, 1918, 2027, 2015] ...\n",
      "Testing  on 30 cases, [1802, 1806, 1830, 1831, 1836] ...\n"
     ]
    }
   ],
   "source": [
    "# config\n",
    "DATAFRAME_PATH = \"../data/raw/data_frames\"\n",
    "ANNOTATION_PATH = \"../data/processed/Annotation.csv\"\n",
    "CATEGORY = \"Urination\"\n",
    "THRESHOLD = 0.3\n",
    "\n",
    "FEATURE_NAMES = ['Min', 'Max', 'Median', 'Mean', 'LogVariance', 'LinearTrend']\n",
    "SOURCES = ['TotalWeight', 'WaterDistance', 'AudioDelay', 'RadarSum', 'AudioDelay2', 'AudioDelay4']\n",
    "CATEGORY = 'Urination'\n",
    "\n",
    "ANNOTATIONS = load_annotation.get_annotation(ANNOTATION_PATH)\n",
    "USER_IDS = load_annotation.get_complete_ids(ANNOTATION_PATH, CATEGORY)\n",
    "TRAIN_IDS, TEST_IDS = train_test_split(USER_IDS)\n",
    "\n",
    "print (\"Training on {} cases, {} ...\".format(len(TRAIN_IDS), TRAIN_IDS[:5]))\n",
    "print (\"Testing  on {} cases, {} ...\".format(len(TEST_IDS), TEST_IDS[:5]))"
   ]
  },
  {
   "cell_type": "code",
   "execution_count": 3,
   "metadata": {},
   "outputs": [],
   "source": [
    "rf_train_config = {\n",
    "    'USE_IDS': TRAIN_IDS,\n",
    "    'ANNOTATION_PATH': ANNOTATION_PATH,\n",
    "    'FEATURE_NAMES': FEATURE_NAMES,\n",
    "    'SOURCES': SOURCES,\n",
    "    'CATEGORY': CATEGORY\n",
    "}\n",
    "\n",
    "rf_test_config = {\n",
    "    'USE_IDS': TEST_IDS,\n",
    "    'ANNOTATION_PATH': ANNOTATION_PATH,\n",
    "    'FEATURE_NAMES': FEATURE_NAMES,\n",
    "    'SOURCES': SOURCES,\n",
    "    'CATEGORY': CATEGORY\n",
    "}\n",
    "\n",
    "dataset = {}\n",
    "dataset['train'] = load_data.RandomForestDataset(rf_train_config)\n",
    "dataset['test'] = load_data.RandomForestDataset(rf_test_config)"
   ]
  },
  {
   "cell_type": "code",
   "execution_count": 4,
   "metadata": {},
   "outputs": [
    {
     "name": "stdout",
     "output_type": "stream",
     "text": [
      "Updating user : 1802\n",
      "Updating user : 1806\n",
      "Updating user : 1830\n",
      "Updating user : 1831\n",
      "Updating user : 1836\n",
      "Updating user : 1864\n",
      "Updating user : 1871\n",
      "Updating user : 1876\n",
      "Updating user : 1889\n",
      "Updating user : 1904\n",
      "Updating user : 1914\n",
      "Updating user : 1921\n",
      "Updating user : 1924\n",
      "Updating user : 1925\n",
      "Updating user : 1927\n",
      "Updating user : 1932\n",
      "Updating user : 1937\n",
      "Updating user : 1939\n",
      "Updating user : 1949\n",
      "Updating user : 1951\n",
      "Updating user : 1996\n",
      "Updating user : 1999\n",
      "Updating user : 2013\n",
      "Updating user : 2024\n",
      "Updating user : 2042\n",
      "Updating user : 2062\n",
      "updating user 2062 failed\n",
      "Updating user : 2066\n",
      "updating user 2066 failed\n",
      "Updating user : 2067\n",
      "updating user 2067 failed\n",
      "Updating user : 2070\n",
      "updating user 2070 failed\n",
      "Updating user : 2073\n",
      "updating user 2073 failed\n"
     ]
    }
   ],
   "source": [
    "test_x, test_y = dataset['test'].get_all_features_and_labels()"
   ]
  },
  {
   "cell_type": "code",
   "execution_count": 28,
   "metadata": {},
   "outputs": [],
   "source": [
    "def classification_result(model, testX, testY, threshold = 0.5):\n",
    "    testYPredProb = model.predict_proba(testX)\n",
    "    testYPred = (testYPredProb[:, 1] > threshold).astype(int)\n",
    "    print (f\"threshold = {threshold}\", \"\\n\")\n",
    "    print (classification_report(testY, testYPred))"
   ]
  },
  {
   "cell_type": "code",
   "execution_count": 29,
   "metadata": {},
   "outputs": [],
   "source": [
    "import pickle\n",
    "\n",
    "with open(\"../randomforest-20210108-032342.pkl\", \"rb\") as f:\n",
    "    rf = pickle.load(f)"
   ]
  },
  {
   "cell_type": "code",
   "execution_count": 33,
   "metadata": {},
   "outputs": [
    {
     "name": "stdout",
     "output_type": "stream",
     "text": [
      "threshold = 0.2 \n",
      "\n",
      "              precision    recall  f1-score   support\n",
      "\n",
      "         0.0       0.98      0.96      0.97      2008\n",
      "         1.0       0.76      0.87      0.81       303\n",
      "\n",
      "    accuracy                           0.95      2311\n",
      "   macro avg       0.87      0.91      0.89      2311\n",
      "weighted avg       0.95      0.95      0.95      2311\n",
      "\n"
     ]
    }
   ],
   "source": [
    "classification_result(\n",
    "    model = rf,\n",
    "    testX = test_x,\n",
    "    testY = test_y,\n",
    "    threshold = 0.2\n",
    ")"
   ]
  },
  {
   "cell_type": "code",
   "execution_count": 31,
   "metadata": {},
   "outputs": [
    {
     "name": "stdout",
     "output_type": "stream",
     "text": [
      "threshold = 0.5 \n",
      "\n",
      "              precision    recall  f1-score   support\n",
      "\n",
      "         0.0       0.97      0.99      0.98      2008\n",
      "         1.0       0.91      0.81      0.85       303\n",
      "\n",
      "    accuracy                           0.96      2311\n",
      "   macro avg       0.94      0.90      0.92      2311\n",
      "weighted avg       0.96      0.96      0.96      2311\n",
      "\n"
     ]
    }
   ],
   "source": [
    "classification_result(\n",
    "    model = rf,\n",
    "    testX = test_x,\n",
    "    testY = test_y,\n",
    "    threshold = 0.5\n",
    ")"
   ]
  },
  {
   "cell_type": "code",
   "execution_count": 32,
   "metadata": {},
   "outputs": [
    {
     "name": "stdout",
     "output_type": "stream",
     "text": [
      "threshold = 0.3 \n",
      "\n",
      "              precision    recall  f1-score   support\n",
      "\n",
      "         0.0       0.98      0.97      0.98      2008\n",
      "         1.0       0.83      0.85      0.84       303\n",
      "\n",
      "    accuracy                           0.96      2311\n",
      "   macro avg       0.90      0.91      0.91      2311\n",
      "weighted avg       0.96      0.96      0.96      2311\n",
      "\n"
     ]
    }
   ],
   "source": [
    "classification_result(\n",
    "    model = rf,\n",
    "    testX = test_x,\n",
    "    testY = test_y,\n",
    "    threshold = 0.3\n",
    ")"
   ]
  }
 ],
 "metadata": {
  "kernelspec": {
   "display_name": ".download-project",
   "language": "python",
   "name": ".download-project"
  },
  "language_info": {
   "codemirror_mode": {
    "name": "ipython",
    "version": 3
   },
   "file_extension": ".py",
   "mimetype": "text/x-python",
   "name": "python",
   "nbconvert_exporter": "python",
   "pygments_lexer": "ipython3",
   "version": "3.8.3"
  }
 },
 "nbformat": 4,
 "nbformat_minor": 4
}
