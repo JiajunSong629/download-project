{
 "cells": [
  {
   "cell_type": "code",
   "execution_count": 1,
   "id": "virtual-cathedral",
   "metadata": {},
   "outputs": [],
   "source": [
    "import pandas as pd\n",
    "import numpy as np\n",
    "import matplotlib.pyplot as plt\n",
    "import seaborn as sns"
   ]
  },
  {
   "cell_type": "code",
   "execution_count": 2,
   "id": "equipped-edition",
   "metadata": {},
   "outputs": [],
   "source": [
    "res_df = pd.read_csv('../data/processed/0315-investigating-overlap.csv', index_col=0)"
   ]
  },
  {
   "cell_type": "markdown",
   "id": "interior-humanitarian",
   "metadata": {},
   "source": [
    "## Contingency table: 58 cases have both urination and defecation"
   ]
  },
  {
   "cell_type": "code",
   "execution_count": 3,
   "id": "brutal-adrian",
   "metadata": {},
   "outputs": [],
   "source": [
    "contingency_tbl = np.zeros((2,2))\n",
    "\n",
    "if_urination = res_df['U-duration (s)'] != 0\n",
    "if_defecation = res_df['D-duration (s)'] != 0\n",
    "\n",
    "contingency_tbl[0, 0] = sum(   if_defecation &    if_urination)\n",
    "contingency_tbl[0, 1] = sum(   if_defecation &  (~if_urination))\n",
    "contingency_tbl[1, 0] = sum( (~if_defecation) &   if_urination)\n",
    "contingency_tbl[1, 1] = 0"
   ]
  },
  {
   "cell_type": "code",
   "execution_count": 4,
   "id": "monthly-comment",
   "metadata": {},
   "outputs": [
    {
     "data": {
      "text/html": [
       "<div>\n",
       "<style scoped>\n",
       "    .dataframe tbody tr th:only-of-type {\n",
       "        vertical-align: middle;\n",
       "    }\n",
       "\n",
       "    .dataframe tbody tr th {\n",
       "        vertical-align: top;\n",
       "    }\n",
       "\n",
       "    .dataframe thead th {\n",
       "        text-align: right;\n",
       "    }\n",
       "</style>\n",
       "<table border=\"1\" class=\"dataframe\">\n",
       "  <thead>\n",
       "    <tr style=\"text-align: right;\">\n",
       "      <th></th>\n",
       "      <th>U-Y</th>\n",
       "      <th>U-N</th>\n",
       "    </tr>\n",
       "  </thead>\n",
       "  <tbody>\n",
       "    <tr>\n",
       "      <th>D-Y</th>\n",
       "      <td>58</td>\n",
       "      <td>1</td>\n",
       "    </tr>\n",
       "    <tr>\n",
       "      <th>D-N</th>\n",
       "      <td>85</td>\n",
       "      <td>0</td>\n",
       "    </tr>\n",
       "  </tbody>\n",
       "</table>\n",
       "</div>"
      ],
      "text/plain": [
       "     U-Y  U-N\n",
       "D-Y   58    1\n",
       "D-N   85    0"
      ]
     },
     "execution_count": 4,
     "metadata": {},
     "output_type": "execute_result"
    }
   ],
   "source": [
    "pd.DataFrame(\n",
    "    contingency_tbl.astype(int),\n",
    "    columns=['U-Y', 'U-N'],\n",
    "    index = ['D-Y', 'D-N']\n",
    ")"
   ]
  },
  {
   "cell_type": "markdown",
   "id": "downtown-welding",
   "metadata": {},
   "source": [
    "## 24 out of 58 have overlaps"
   ]
  },
  {
   "cell_type": "code",
   "execution_count": 5,
   "id": "placed-marker",
   "metadata": {},
   "outputs": [
    {
     "data": {
      "text/plain": [
       "(24, 58)"
      ]
     },
     "execution_count": 5,
     "metadata": {},
     "output_type": "execute_result"
    }
   ],
   "source": [
    "res_sub_df = res_df[if_defecation & if_urination]\n",
    "\n",
    "sum(res_sub_df['O-duration (s)'] > 0), len(res_sub_df)"
   ]
  },
  {
   "cell_type": "code",
   "execution_count": null,
   "id": "reduced-serum",
   "metadata": {},
   "outputs": [],
   "source": []
  },
  {
   "cell_type": "markdown",
   "id": "pursuant-castle",
   "metadata": {},
   "source": [
    "## Visualize the 24 overlap cases"
   ]
  },
  {
   "cell_type": "code",
   "execution_count": 6,
   "id": "studied-interview",
   "metadata": {},
   "outputs": [],
   "source": [
    "# time\n",
    "overlaps_df = res_sub_df[res_sub_df['O-duration (s)'] > 0]\n",
    "time_overlap = overlaps_df['O-duration (s)'] / (\n",
    "    overlaps_df['U-duration (s)'] + overlaps_df['D-duration (s)'] - overlaps_df['O-duration (s)'])\n",
    "# weight\n",
    "weight_overlap = overlaps_df['O-weight (kg)'] / (\n",
    "    overlaps_df['U-weight (kg)'] + overlaps_df['D-weight (kg)'] - overlaps_df['O-weight (kg)'])"
   ]
  },
  {
   "cell_type": "code",
   "execution_count": 7,
   "id": "adequate-necessity",
   "metadata": {},
   "outputs": [
    {
     "data": {
      "image/png": "[encoded data removed]",
      "text/plain": [
       "<Figure size 720x216 with 2 Axes>"
      ]
     },
     "metadata": {
      "needs_background": "light"
     },
     "output_type": "display_data"
    }
   ],
   "source": [
    "plt.figure(figsize=(10, 3))\n",
    "plt.subplot(121)\n",
    "sns.boxplot(x = time_overlap)\n",
    "plt.xlim(0, 1)\n",
    "plt.title('Time')\n",
    "\n",
    "plt.subplot(122)\n",
    "sns.boxplot(x = weight_overlap)\n",
    "plt.xlim(0, 1)\n",
    "plt.title('Weight')\n",
    "\n",
    "plt.tight_layout()\n",
    "\n",
    "plt.savefig('../reports/figures/overlap-evaluation.png')\n",
    "pass"
   ]
  },
  {
   "cell_type": "code",
   "execution_count": null,
   "id": "polished-sister",
   "metadata": {},
   "outputs": [],
   "source": []
  },
  {
   "cell_type": "code",
   "execution_count": 8,
   "id": "asian-sailing",
   "metadata": {},
   "outputs": [
    {
     "data": {
      "text/plain": [
       "(0.1953236254485714, 0.12486104310243062)"
      ]
     },
     "execution_count": 8,
     "metadata": {},
     "output_type": "execute_result"
    }
   ],
   "source": [
    "np.mean(time_overlap), np.std(time_overlap)"
   ]
  },
  {
   "cell_type": "code",
   "execution_count": 9,
   "id": "medieval-ratio",
   "metadata": {},
   "outputs": [
    {
     "data": {
      "text/plain": [
       "(0.21756488620401093, 0.17941145787806909)"
      ]
     },
     "execution_count": 9,
     "metadata": {},
     "output_type": "execute_result"
    }
   ],
   "source": [
    "np.mean(weight_overlap), np.std(weight_overlap)"
   ]
  },
  {
   "cell_type": "code",
   "execution_count": null,
   "id": "victorian-arbitration",
   "metadata": {},
   "outputs": [],
   "source": []
  }
 ],
 "metadata": {
  "kernelspec": {
   "display_name": ".download-project",
   "language": "python",
   "name": ".download-project"
  },
  "language_info": {
   "codemirror_mode": {
    "name": "ipython",
    "version": 3
   },
   "file_extension": ".py",
   "mimetype": "text/x-python",
   "name": "python",
   "nbconvert_exporter": "python",
   "pygments_lexer": "ipython3",
   "version": "3.8.3"
  }
 },
 "nbformat": 4,
 "nbformat_minor": 5
}
